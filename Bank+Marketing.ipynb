{
  "nbformat": 4,
  "nbformat_minor": 0,
  "metadata": {
    "kernelspec": {
      "display_name": "Python 3",
      "language": "python",
      "name": "python3"
    },
    "language_info": {
      "codemirror_mode": {
        "name": "ipython",
        "version": 3
      },
      "file_extension": ".py",
      "mimetype": "text/x-python",
      "name": "python",
      "nbconvert_exporter": "python",
      "pygments_lexer": "ipython3",
      "version": "3.6.1"
    },
    "colab": {
      "name": "Bank+Marketing.ipynb",
      "provenance": [],
      "collapsed_sections": [],
      "toc_visible": true
    }
  },
  "cells": [
    {
      "cell_type": "code",
      "metadata": {
        "colab": {
          "base_uri": "https://localhost:8080/"
        },
        "id": "7lA_2w3VhHsT",
        "outputId": "884097ca-e8bf-4916-81d4-232adf7d949b"
      },
      "source": [
        "from pydrive.auth import GoogleAuth\n",
        "from pydrive.drive import GoogleDrive\n",
        "from google.colab import auth\n",
        "from google.colab import drive\n",
        "from oauth2client.client import GoogleCredentials\n",
        "from os.path import exists as file_exists\n",
        "\n",
        "\n",
        "# Authenticate and create the PyDrive client.\n",
        "auth.authenticate_user()\n",
        "gauth = GoogleAuth()\n",
        "gauth.credentials = GoogleCredentials.get_application_default()\n",
        "googleDrive = GoogleDrive(gauth)\n",
        "\n",
        "\n",
        "drive.mount('/content/gdrive')\n",
        "\n",
        "#leitura do arquivo\n",
        "!ls \"/content/gdrive/MyDrive/Colab Notebooks/\"\n",
        "\n",
        "file = '/content/gdrive/MyDrive/Colab Notebooks/ia/bank.csv'\n",
        "\n"
      ],
      "execution_count": null,
      "outputs": [
        {
          "output_type": "stream",
          "name": "stdout",
          "text": [
            "Drive already mounted at /content/gdrive; to attempt to forcibly remount, call drive.mount(\"/content/gdrive\", force_remount=True).\n",
            " CdiasExercicio2.ipynb\n",
            "'Cópia de Charts in Colaboratory'\n",
            "'Cópia de deep_neural_decision_forests'\n",
            "'Cópia de PY0101EN-4-1-ReadFile.ipynb'\n",
            " estatistica\n",
            " estats\n",
            " Exercicio2-parte2.ipynb\n",
            " Exercicios-2.ipynb\n",
            " files\n",
            " ia\n",
            " IA-LAB1\n",
            " IA-LAB1-OutLiers.ipynb\n",
            " IA_Lab2.ipynb\n",
            " IA-Lab2.ipynb\n",
            " ImagemCloud.ipynb\n",
            " Lista1-IA.ipynb\n",
            " lista1.ipynb\n",
            " lista2.ipynb\n",
            " Lista3-2.ipynb\n",
            " lista3.ipynb\n",
            " Lista5.ipynb\n",
            " medidas_estatisticas.ipynb\n",
            " p3-random-forest-tuning-randomizedsearchcv.ipynb\n",
            " palavras.txt\n",
            " parrot.ipynb\n",
            "'Política e COVID.ipynb'\n",
            "'Política e COVID_NOVO.ipynb'\n",
            " ProjetoEstat.ipynb\n",
            " ProjetoFinalTAAED-v1.ipynb\n",
            " RandomForest.ipynb\n",
            " random-forests-and-keras.ipynb\n",
            " SE_RF+KNN.ipynb\n",
            " step-by-step-kmeans-explained-in-detail.ipynb\n",
            " -SupervisedLearning.ipynb\n",
            " SupervisedLearning.ipynb\n",
            " tempoxclasse.ipynb\n",
            "'Trabalho de I.A.gdoc'\n",
            " TrabalhoFinal.ipynb\n",
            " TrabalhoFinal_SE2.ipynb\n",
            " TrabalhoFinal_SE.ipynb\n",
            " trabalhoIA.ipynb\n",
            " Untitled\n",
            " Untitled0.ipynb\n",
            "'Untitled (1)'\n"
          ]
        }
      ]
    },
    {
      "cell_type": "code",
      "metadata": {
        "_cell_guid": "036aa05d-10d0-45f1-bbb8-8dcf316b2df0",
        "_uuid": "cd1fc44cf83203b42ad5ca9b92164c18825a6dea",
        "colab": {
          "base_uri": "https://localhost:8080/"
        },
        "id": "Tx2WTsLhhEut",
        "outputId": "c6fa2428-8cd3-49f0-e3c0-e9938a08df8c"
      },
      "source": [
        "# This Python 3 environment comes with many helpful analytics libraries installed\n",
        "# It is defined by the kaggle/python docker image: https://github.com/kaggle/docker-python\n",
        "# For example, here's several helpful packages to load in \n",
        "\n",
        "import numpy as np # linear algebra\n",
        "import pandas as pd # data processing, CSV file I/O (e.g. pd.read_csv)\n",
        "\n",
        "# Input data files are available in the \"../input/\" directory.\n",
        "# For example, running this (by clicking run or pressing Shift+Enter) will list the files in the input directory\n",
        "\n",
        "from subprocess import check_output\n",
        "print(check_output([\"ls\", \"/content/gdrive/MyDrive/Colab Notebooks/\"]).decode(\"utf8\"))\n",
        "\n",
        "# Any results you write to the current directory are saved as output."
      ],
      "execution_count": null,
      "outputs": [
        {
          "output_type": "stream",
          "name": "stdout",
          "text": [
            "CdiasExercicio2.ipynb\n",
            "Cópia de Charts in Colaboratory\n",
            "Cópia de deep_neural_decision_forests\n",
            "Cópia de PY0101EN-4-1-ReadFile.ipynb\n",
            "estatistica\n",
            "estats\n",
            "Exercicio2-parte2.ipynb\n",
            "Exercicios-2.ipynb\n",
            "files\n",
            "ia\n",
            "IA-LAB1\n",
            "IA-LAB1-OutLiers.ipynb\n",
            "IA_Lab2.ipynb\n",
            "IA-Lab2.ipynb\n",
            "ImagemCloud.ipynb\n",
            "Lista1-IA.ipynb\n",
            "lista1.ipynb\n",
            "lista2.ipynb\n",
            "Lista3-2.ipynb\n",
            "lista3.ipynb\n",
            "Lista5.ipynb\n",
            "medidas_estatisticas.ipynb\n",
            "p3-random-forest-tuning-randomizedsearchcv.ipynb\n",
            "palavras.txt\n",
            "parrot.ipynb\n",
            "Política e COVID.ipynb\n",
            "Política e COVID_NOVO.ipynb\n",
            "ProjetoEstat.ipynb\n",
            "ProjetoFinalTAAED-v1.ipynb\n",
            "RandomForest.ipynb\n",
            "random-forests-and-keras.ipynb\n",
            "SE_RF+KNN.ipynb\n",
            "step-by-step-kmeans-explained-in-detail.ipynb\n",
            "-SupervisedLearning.ipynb\n",
            "SupervisedLearning.ipynb\n",
            "tempoxclasse.ipynb\n",
            "Trabalho de I.A.gdoc\n",
            "TrabalhoFinal.ipynb\n",
            "TrabalhoFinal_SE2.ipynb\n",
            "TrabalhoFinal_SE.ipynb\n",
            "trabalhoIA.ipynb\n",
            "Untitled\n",
            "Untitled0.ipynb\n",
            "Untitled (1)\n",
            "\n"
          ]
        }
      ]
    },
    {
      "cell_type": "code",
      "metadata": {
        "collapsed": true,
        "id": "eMPLhnI2hEu0"
      },
      "source": [
        "import pandas as pd\n",
        "pd.options.mode.chained_assignment = None\n",
        "import numpy as np\n",
        "from collections import Counter\n",
        "import matplotlib.pyplot as plt\n",
        "import seaborn as sns\n",
        "sns.set_style(\"white\")\n",
        "%matplotlib inline"
      ],
      "execution_count": null,
      "outputs": []
    },
    {
      "cell_type": "markdown",
      "metadata": {
        "id": "8b1WOzbQeQxA"
      },
      "source": [
        "# Método avaliação do modelo de Bank Data Marketing"
      ]
    },
    {
      "cell_type": "code",
      "metadata": {
        "id": "JWwDsScQeRUd"
      },
      "source": [
        "from sklearn.metrics import classification_report, confusion_matrix, accuracy_score\n",
        "\n",
        "def evaluate_model(dt_classifier):\n",
        "    print(\"Train Accuracy :\", accuracy_score(Y_train, dt_classifier.predict(X_train)))\n",
        "    print(\"Train Confusion Matrix:\")\n",
        "    print(confusion_matrix(Y_train, dt_classifier.predict(X_train)))\n",
        "    print(\"-\"*50)\n",
        "    print(\"Test Accuracy :\", accuracy_score(Y_test, dt_classifier.predict(X_test)))\n",
        "    print(\"Test Confusion Matrix:\")\n",
        "    print(confusion_matrix(Y_test, dt_classifier.predict(X_test)))\n",
        "    plt.figure(figsize = (5,4))\n",
        "    cm = confusion_matrix(Y_train, dt_classifier.predict(X_train))\n",
        "    sns.heatmap(cm, annot = True, cmap='Blues', fmt='g')\n",
        "    plt.title('Confusion matrix')\n",
        "    plt.ylabel('True label')\n",
        "    plt.xlabel('Predicted label')\n",
        "    \n",
        "\n",
        "def get_dt_graph(dt_classifier):\n",
        "    fig = plt.figure(figsize=(25,20))\n",
        "    _ = tree.plot_tree(dt_classifier,\n",
        "                       feature_names=X.columns,\n",
        "                       class_names=['No Disease', \"Disease\"],\n",
        "                       filled=True)"
      ],
      "execution_count": null,
      "outputs": []
    },
    {
      "cell_type": "markdown",
      "metadata": {
        "id": "ppvlbpWvqc6Y"
      },
      "source": [
        "# Data preparation"
      ]
    },
    {
      "cell_type": "markdown",
      "metadata": {
        "id": "UGYgzsgi4H3o"
      },
      "source": [
        "### Input missing lines, Convert to binaries, Normalization, Scale"
      ]
    },
    {
      "cell_type": "code",
      "metadata": {
        "colab": {
          "base_uri": "https://localhost:8080/",
          "height": 206
        },
        "id": "uHgtjuS3hEu1",
        "outputId": "fa4af74f-58f0-4728-d3af-bc358e1b52f4"
      },
      "source": [
        "def process(df):\n",
        "    # Imput missing lines and drop line with problem\n",
        "    from sklearn.impute import SimpleImputer\n",
        "\n",
        "    df['pdays'] = SimpleImputer(strategy='median').fit_transform(\n",
        "                                    df['pdays'].values.reshape(-1, 1))\n",
        "    df = df.dropna()\n",
        "    for col in ['previous']:\n",
        "        df[col] = SimpleImputer(missing_values=-1).fit_transform(\n",
        "                                    df[col].values.reshape(-1, 1))\n",
        "    # Convert to binaries\n",
        "    for col in ['housing', 'y']:\n",
        "        df[col] = (df[col] == 'yes').astype(int)\n",
        "        #df[col] = (df[col] == 'no').astype(int)\n",
        "    \n",
        "    # Normalization    \n",
        "    from sklearn.preprocessing import normalize\n",
        "    qty_related = ['balance', 'duration']\n",
        "    df[qty_related] = normalize(df[qty_related], axis=1)\n",
        "    \n",
        "    # Scale pdays\n",
        "    df.pdays = df.pdays/df.pdays.max() #.astype(np.float64)\n",
        "    return df\n",
        "\n",
        "cols=range(1,17)\n",
        "\n",
        "\n",
        "\n",
        "df = process(pd.read_csv(file, usecols=cols, delimiter=';'))\n",
        "df.head()"
      ],
      "execution_count": null,
      "outputs": [
        {
          "output_type": "execute_result",
          "data": {
            "text/html": [
              "<div>\n",
              "<style scoped>\n",
              "    .dataframe tbody tr th:only-of-type {\n",
              "        vertical-align: middle;\n",
              "    }\n",
              "\n",
              "    .dataframe tbody tr th {\n",
              "        vertical-align: top;\n",
              "    }\n",
              "\n",
              "    .dataframe thead th {\n",
              "        text-align: right;\n",
              "    }\n",
              "</style>\n",
              "<table border=\"1\" class=\"dataframe\">\n",
              "  <thead>\n",
              "    <tr style=\"text-align: right;\">\n",
              "      <th></th>\n",
              "      <th>job</th>\n",
              "      <th>marital</th>\n",
              "      <th>education</th>\n",
              "      <th>default</th>\n",
              "      <th>balance</th>\n",
              "      <th>housing</th>\n",
              "      <th>loan</th>\n",
              "      <th>contact</th>\n",
              "      <th>day</th>\n",
              "      <th>month</th>\n",
              "      <th>duration</th>\n",
              "      <th>campaign</th>\n",
              "      <th>pdays</th>\n",
              "      <th>previous</th>\n",
              "      <th>poutcome</th>\n",
              "      <th>y</th>\n",
              "    </tr>\n",
              "  </thead>\n",
              "  <tbody>\n",
              "    <tr>\n",
              "      <th>0</th>\n",
              "      <td>unemployed</td>\n",
              "      <td>married</td>\n",
              "      <td>primary</td>\n",
              "      <td>no</td>\n",
              "      <td>0.999024</td>\n",
              "      <td>0</td>\n",
              "      <td>no</td>\n",
              "      <td>cellular</td>\n",
              "      <td>19</td>\n",
              "      <td>oct</td>\n",
              "      <td>0.044165</td>\n",
              "      <td>1</td>\n",
              "      <td>-0.001148</td>\n",
              "      <td>0.0</td>\n",
              "      <td>unknown</td>\n",
              "      <td>0</td>\n",
              "    </tr>\n",
              "    <tr>\n",
              "      <th>1</th>\n",
              "      <td>services</td>\n",
              "      <td>married</td>\n",
              "      <td>secondary</td>\n",
              "      <td>no</td>\n",
              "      <td>0.998946</td>\n",
              "      <td>1</td>\n",
              "      <td>yes</td>\n",
              "      <td>cellular</td>\n",
              "      <td>11</td>\n",
              "      <td>may</td>\n",
              "      <td>0.045890</td>\n",
              "      <td>1</td>\n",
              "      <td>0.389208</td>\n",
              "      <td>4.0</td>\n",
              "      <td>failure</td>\n",
              "      <td>0</td>\n",
              "    </tr>\n",
              "    <tr>\n",
              "      <th>2</th>\n",
              "      <td>management</td>\n",
              "      <td>single</td>\n",
              "      <td>tertiary</td>\n",
              "      <td>no</td>\n",
              "      <td>0.990741</td>\n",
              "      <td>1</td>\n",
              "      <td>no</td>\n",
              "      <td>cellular</td>\n",
              "      <td>16</td>\n",
              "      <td>apr</td>\n",
              "      <td>0.135768</td>\n",
              "      <td>1</td>\n",
              "      <td>0.378875</td>\n",
              "      <td>1.0</td>\n",
              "      <td>failure</td>\n",
              "      <td>0</td>\n",
              "    </tr>\n",
              "    <tr>\n",
              "      <th>3</th>\n",
              "      <td>management</td>\n",
              "      <td>married</td>\n",
              "      <td>tertiary</td>\n",
              "      <td>no</td>\n",
              "      <td>0.991033</td>\n",
              "      <td>1</td>\n",
              "      <td>yes</td>\n",
              "      <td>unknown</td>\n",
              "      <td>3</td>\n",
              "      <td>jun</td>\n",
              "      <td>0.133615</td>\n",
              "      <td>4</td>\n",
              "      <td>-0.001148</td>\n",
              "      <td>0.0</td>\n",
              "      <td>unknown</td>\n",
              "      <td>0</td>\n",
              "    </tr>\n",
              "    <tr>\n",
              "      <th>4</th>\n",
              "      <td>blue-collar</td>\n",
              "      <td>married</td>\n",
              "      <td>secondary</td>\n",
              "      <td>no</td>\n",
              "      <td>0.000000</td>\n",
              "      <td>1</td>\n",
              "      <td>no</td>\n",
              "      <td>unknown</td>\n",
              "      <td>5</td>\n",
              "      <td>may</td>\n",
              "      <td>1.000000</td>\n",
              "      <td>1</td>\n",
              "      <td>-0.001148</td>\n",
              "      <td>0.0</td>\n",
              "      <td>unknown</td>\n",
              "      <td>0</td>\n",
              "    </tr>\n",
              "  </tbody>\n",
              "</table>\n",
              "</div>"
            ],
            "text/plain": [
              "           job  marital  education default  ...     pdays  previous poutcome  y\n",
              "0   unemployed  married    primary      no  ... -0.001148       0.0  unknown  0\n",
              "1     services  married  secondary      no  ...  0.389208       4.0  failure  0\n",
              "2   management   single   tertiary      no  ...  0.378875       1.0  failure  0\n",
              "3   management  married   tertiary      no  ... -0.001148       0.0  unknown  0\n",
              "4  blue-collar  married  secondary      no  ... -0.001148       0.0  unknown  0\n",
              "\n",
              "[5 rows x 16 columns]"
            ]
          },
          "metadata": {},
          "execution_count": 797
        }
      ]
    },
    {
      "cell_type": "code",
      "metadata": {
        "colab": {
          "base_uri": "https://localhost:8080/"
        },
        "id": "NRnQtUqzBXSN",
        "outputId": "25cc88c4-7360-4486-c7c2-fe1200c5b490"
      },
      "source": [
        "df = df.replace(to_replace=r'single', value=1, regex=True)\n",
        "df = df.replace(to_replace='married', value=2, regex=False)\n",
        "df = df.replace(to_replace=r'divorced', value=3, regex=True)\n",
        "\n",
        "df = df.replace(to_replace=r'unknown', value=0, regex=True)\n",
        "df = df.replace(to_replace=r'failure', value=1, regex=True)\n",
        "df = df.replace(to_replace=r'success', value=2, regex=True)\n",
        "df = df.replace(to_replace=r'other', value=3, regex=False)\n",
        "\n",
        "df = df.replace(to_replace=r'primary', value=1, regex=True)\n",
        "df = df.replace(to_replace='secondary', value=2, regex=False)\n",
        "df = df.replace(to_replace=r'tertiary', value=3, regex=True)\n",
        "\n",
        "df = df.replace(to_replace=r'cellular', value=1, regex=True)\n",
        "df = df.replace(to_replace=r'telephone', value=2, regex=True)\n",
        "\n",
        "df = df.replace(to_replace=r'no', value=0, regex=True)\n",
        "df = df.replace(to_replace=r'yes', value=1, regex=True)\n",
        "\n",
        "df = df.replace(to_replace=r'jan', value=1, regex=False)\n",
        "df = df.replace(to_replace=r'feb', value=2, regex=False)\n",
        "df = df.replace(to_replace=r'mar', value=3, regex=False)\n",
        "df = df.replace(to_replace=r'apr', value=4, regex=False)\n",
        "df = df.replace(to_replace=r'may', value=5, regex=False)\n",
        "df = df.replace(to_replace=r'jun', value=6, regex=False)\n",
        "df = df.replace(to_replace=r'jul', value=7, regex=False)\n",
        "df = df.replace(to_replace=r'aug', value=8, regex=False)\n",
        "df = df.replace(to_replace=r'sep', value=9, regex=False)\n",
        "df = df.replace(to_replace=r'oct', value=10, regex=False)\n",
        "df = df.replace(to_replace=r'nov', value=11, regex=False)\n",
        "df = df.replace(to_replace=r'dec', value=12, regex=False)\n",
        "\n",
        "\n",
        "\n",
        "df = df.replace(to_replace=r'student', value=1, regex=False)\n",
        "df = df.replace(to_replace=r'unemployed', value=2, regex=False)\n",
        "df = df.replace(to_replace=r'entrepreneur', value=3, regex=False)\n",
        "df = df.replace(to_replace=r'housemaid', value=4, regex=False)\n",
        "df = df.replace(to_replace=r'self-employed', value=5, regex=False)\n",
        "df = df.replace(to_replace=r'retired', value=5, regex=False)\n",
        "df = df.replace(to_replace=r'services', value=6, regex=False)\n",
        "df = df.replace(to_replace=r'technician', value=7, regex=False)\n",
        "df = df.replace(to_replace=r'blue-collar', value=8, regex=False)\n",
        "df = df.replace(to_replace=r'management', value=9, regex=False)\n",
        "df = df.replace(to_replace=r'admin.', value=10, regex=False)\n",
        "\n",
        "df.dtypes\n",
        "\n"
      ],
      "execution_count": null,
      "outputs": [
        {
          "output_type": "execute_result",
          "data": {
            "text/plain": [
              "job            int64\n",
              "marital        int64\n",
              "education      int64\n",
              "default        int64\n",
              "balance      float64\n",
              "housing        int64\n",
              "loan           int64\n",
              "contact        int64\n",
              "day            int64\n",
              "month          int64\n",
              "duration     float64\n",
              "campaign       int64\n",
              "pdays        float64\n",
              "previous     float64\n",
              "poutcome       int64\n",
              "y              int64\n",
              "dtype: object"
            ]
          },
          "metadata": {},
          "execution_count": 798
        }
      ]
    },
    {
      "cell_type": "markdown",
      "metadata": {
        "id": "v1rwM4zpE1Yz"
      },
      "source": [
        "# Razão de variância"
      ]
    },
    {
      "cell_type": "code",
      "metadata": {
        "colab": {
          "base_uri": "https://localhost:8080/",
          "height": 404
        },
        "id": "BrFAX8u9hEu3",
        "outputId": "20151bb9-d7c4-4c27-bd65-12d9cdbc6fae"
      },
      "source": [
        "def plot_2d(X, y, title=''):\n",
        "    from sklearn.preprocessing import StandardScaler\n",
        "    X_std = StandardScaler().fit_transform(X)\n",
        "\n",
        "    from sklearn.decomposition import PCA\n",
        "    dec = PCA(n_components=2)\n",
        "    X_reduced = dec.fit_transform(X_std)\n",
        "    \n",
        "    f, ax = plt.subplots(figsize=(6,6))\n",
        "    ax.scatter(X_reduced[y==0,0], X_reduced[y==0,1], alpha=0.5, \n",
        "               facecolors='none', edgecolors='cornflowerblue', label=\"Negativo\")\n",
        "    ax.scatter(X_reduced[y==1,0], X_reduced[y==1,1], c='darkorange', marker='*', \n",
        "               label='Positivo')\n",
        "    plt.title(\"Razão de variância: %.2f%%\" % (100*dec.explained_variance_ratio_.sum()))\n",
        "    ax.legend(loc='lower left')\n",
        "    ax.spines['right'].set_visible(False)\n",
        "    ax.spines['top'].set_visible(False)\n",
        "    ax.set_xlabel('PC1')\n",
        "    ax.set_ylabel('PC2')\n",
        "    plt.show()\n",
        "    \n",
        "sample = df.sample(1000, random_state=36)\n",
        "\n",
        "X_sample = sample.drop('y',axis=1).values\n",
        "#X_sample = sample[[ 'balance', 'day' ]].values\n",
        "y_sample = sample['y'].values\n",
        "\n",
        "plot_2d(X_sample, y_sample)"
      ],
      "execution_count": null,
      "outputs": [
        {
          "output_type": "display_data",
          "data": {
            "image/png": "[encoded data removed]",
            "text/plain": [
              "<Figure size 432x432 with 1 Axes>"
            ]
          },
          "metadata": {
            "needs_background": "light"
          }
        }
      ]
    },
    {
      "cell_type": "markdown",
      "metadata": {
        "id": "tyx5BzFkE5LH"
      },
      "source": [
        "# Treinamento"
      ]
    },
    {
      "cell_type": "code",
      "metadata": {
        "colab": {
          "base_uri": "https://localhost:8080/",
          "height": 557
        },
        "id": "eERuNMWrhEu5",
        "outputId": "9dd09ebf-7b9d-416e-bfd4-5eed129b47df"
      },
      "source": [
        "X = df.drop('y', axis=1)\n",
        "y = np.ravel(df.iloc[: , -1:])\n",
        "print('Imbalanced ratio in training set: 1:%i' % (Counter(y)[0]/Counter(y)[1]))\n",
        "\n",
        "from sklearn.model_selection import train_test_split\n",
        "X_train, X_test, Y_train, Y_test = train_test_split(X, y, test_size=0.33, stratify=y, random_state=42)\n",
        "\n",
        "# Divisão do conjunto de dados  teste (1/3); treino (2/3)\n",
        "#X_train, X_test, y_train, y_test = train_test_split(X, y, test_size=0.33, random_state=10)\n",
        "\n",
        "#verificar dimensões dos subconjuntos\n",
        "X_train.shape, X_test.shape, Y_train.shape, Y_test.shape\n",
        "\n",
        "\n",
        "X.corr()\n",
        "\n"
      ],
      "execution_count": null,
      "outputs": [
        {
          "output_type": "stream",
          "name": "stdout",
          "text": [
            "Imbalanced ratio in training set: 1:7\n"
          ]
        },
        {
          "output_type": "execute_result",
          "data": {
            "text/html": [
              "<div>\n",
              "<style scoped>\n",
              "    .dataframe tbody tr th:only-of-type {\n",
              "        vertical-align: middle;\n",
              "    }\n",
              "\n",
              "    .dataframe tbody tr th {\n",
              "        vertical-align: top;\n",
              "    }\n",
              "\n",
              "    .dataframe thead th {\n",
              "        text-align: right;\n",
              "    }\n",
              "</style>\n",
              "<table border=\"1\" class=\"dataframe\">\n",
              "  <thead>\n",
              "    <tr style=\"text-align: right;\">\n",
              "      <th></th>\n",
              "      <th>job</th>\n",
              "      <th>marital</th>\n",
              "      <th>education</th>\n",
              "      <th>default</th>\n",
              "      <th>balance</th>\n",
              "      <th>housing</th>\n",
              "      <th>loan</th>\n",
              "      <th>contact</th>\n",
              "      <th>day</th>\n",
              "      <th>month</th>\n",
              "      <th>duration</th>\n",
              "      <th>campaign</th>\n",
              "      <th>pdays</th>\n",
              "      <th>previous</th>\n",
              "      <th>poutcome</th>\n",
              "    </tr>\n",
              "  </thead>\n",
              "  <tbody>\n",
              "    <tr>\n",
              "      <th>job</th>\n",
              "      <td>1.000000</td>\n",
              "      <td>0.004932</td>\n",
              "      <td>0.161522</td>\n",
              "      <td>-0.020684</td>\n",
              "      <td>0.000280</td>\n",
              "      <td>0.151590</td>\n",
              "      <td>0.024478</td>\n",
              "      <td>-0.037959</td>\n",
              "      <td>0.016521</td>\n",
              "      <td>0.004057</td>\n",
              "      <td>-0.026705</td>\n",
              "      <td>0.022216</td>\n",
              "      <td>0.035342</td>\n",
              "      <td>0.005140</td>\n",
              "      <td>0.015903</td>\n",
              "    </tr>\n",
              "    <tr>\n",
              "      <th>marital</th>\n",
              "      <td>0.004932</td>\n",
              "      <td>1.000000</td>\n",
              "      <td>-0.109124</td>\n",
              "      <td>0.020745</td>\n",
              "      <td>-0.036704</td>\n",
              "      <td>0.029851</td>\n",
              "      <td>0.045210</td>\n",
              "      <td>-0.037977</td>\n",
              "      <td>-0.008794</td>\n",
              "      <td>0.004535</td>\n",
              "      <td>0.024096</td>\n",
              "      <td>-0.005915</td>\n",
              "      <td>-0.017050</td>\n",
              "      <td>-0.038028</td>\n",
              "      <td>-0.031079</td>\n",
              "    </tr>\n",
              "    <tr>\n",
              "      <th>education</th>\n",
              "      <td>0.161522</td>\n",
              "      <td>-0.109124</td>\n",
              "      <td>1.000000</td>\n",
              "      <td>-0.008835</td>\n",
              "      <td>0.028070</td>\n",
              "      <td>-0.031251</td>\n",
              "      <td>0.016102</td>\n",
              "      <td>0.078797</td>\n",
              "      <td>0.013508</td>\n",
              "      <td>0.005581</td>\n",
              "      <td>-0.035795</td>\n",
              "      <td>0.019268</td>\n",
              "      <td>0.006886</td>\n",
              "      <td>0.027320</td>\n",
              "      <td>0.026825</td>\n",
              "    </tr>\n",
              "    <tr>\n",
              "      <th>default</th>\n",
              "      <td>-0.020684</td>\n",
              "      <td>0.020745</td>\n",
              "      <td>-0.008835</td>\n",
              "      <td>1.000000</td>\n",
              "      <td>-0.226086</td>\n",
              "      <td>0.006881</td>\n",
              "      <td>0.063994</td>\n",
              "      <td>-0.021082</td>\n",
              "      <td>-0.013261</td>\n",
              "      <td>-0.002624</td>\n",
              "      <td>0.082149</td>\n",
              "      <td>-0.012348</td>\n",
              "      <td>-0.026317</td>\n",
              "      <td>-0.026656</td>\n",
              "      <td>-0.022538</td>\n",
              "    </tr>\n",
              "    <tr>\n",
              "      <th>balance</th>\n",
              "      <td>0.000280</td>\n",
              "      <td>-0.036704</td>\n",
              "      <td>0.028070</td>\n",
              "      <td>-0.226086</td>\n",
              "      <td>1.000000</td>\n",
              "      <td>-0.048567</td>\n",
              "      <td>-0.096953</td>\n",
              "      <td>0.057107</td>\n",
              "      <td>-0.029977</td>\n",
              "      <td>-0.074235</td>\n",
              "      <td>-0.643734</td>\n",
              "      <td>-0.008249</td>\n",
              "      <td>0.048938</td>\n",
              "      <td>0.046554</td>\n",
              "      <td>0.062415</td>\n",
              "    </tr>\n",
              "    <tr>\n",
              "      <th>housing</th>\n",
              "      <td>0.151590</td>\n",
              "      <td>0.029851</td>\n",
              "      <td>-0.031251</td>\n",
              "      <td>0.006881</td>\n",
              "      <td>-0.048567</td>\n",
              "      <td>1.000000</td>\n",
              "      <td>0.018451</td>\n",
              "      <td>-0.210574</td>\n",
              "      <td>-0.031291</td>\n",
              "      <td>-0.173275</td>\n",
              "      <td>-0.027458</td>\n",
              "      <td>-0.003574</td>\n",
              "      <td>0.116893</td>\n",
              "      <td>0.038621</td>\n",
              "      <td>0.039403</td>\n",
              "    </tr>\n",
              "    <tr>\n",
              "      <th>loan</th>\n",
              "      <td>0.024478</td>\n",
              "      <td>0.045210</td>\n",
              "      <td>0.016102</td>\n",
              "      <td>0.063994</td>\n",
              "      <td>-0.096953</td>\n",
              "      <td>0.018451</td>\n",
              "      <td>1.000000</td>\n",
              "      <td>0.002610</td>\n",
              "      <td>-0.004879</td>\n",
              "      <td>0.008960</td>\n",
              "      <td>0.058339</td>\n",
              "      <td>0.017120</td>\n",
              "      <td>-0.031086</td>\n",
              "      <td>-0.022115</td>\n",
              "      <td>-0.043741</td>\n",
              "    </tr>\n",
              "    <tr>\n",
              "      <th>contact</th>\n",
              "      <td>-0.037959</td>\n",
              "      <td>-0.037977</td>\n",
              "      <td>0.078797</td>\n",
              "      <td>-0.021082</td>\n",
              "      <td>0.057107</td>\n",
              "      <td>-0.210574</td>\n",
              "      <td>0.002610</td>\n",
              "      <td>1.000000</td>\n",
              "      <td>0.063496</td>\n",
              "      <td>-0.053679</td>\n",
              "      <td>-0.014777</td>\n",
              "      <td>0.007929</td>\n",
              "      <td>0.210690</td>\n",
              "      <td>0.173410</td>\n",
              "      <td>0.223913</td>\n",
              "    </tr>\n",
              "    <tr>\n",
              "      <th>day</th>\n",
              "      <td>0.016521</td>\n",
              "      <td>-0.008794</td>\n",
              "      <td>0.013508</td>\n",
              "      <td>-0.013261</td>\n",
              "      <td>-0.029977</td>\n",
              "      <td>-0.031291</td>\n",
              "      <td>-0.004879</td>\n",
              "      <td>0.063496</td>\n",
              "      <td>1.000000</td>\n",
              "      <td>-0.042513</td>\n",
              "      <td>-0.001800</td>\n",
              "      <td>0.160706</td>\n",
              "      <td>-0.094352</td>\n",
              "      <td>-0.059114</td>\n",
              "      <td>-0.057992</td>\n",
              "    </tr>\n",
              "    <tr>\n",
              "      <th>month</th>\n",
              "      <td>0.004057</td>\n",
              "      <td>0.004535</td>\n",
              "      <td>0.005581</td>\n",
              "      <td>-0.002624</td>\n",
              "      <td>-0.074235</td>\n",
              "      <td>-0.173275</td>\n",
              "      <td>0.008960</td>\n",
              "      <td>-0.053679</td>\n",
              "      <td>-0.042513</td>\n",
              "      <td>1.000000</td>\n",
              "      <td>0.087475</td>\n",
              "      <td>0.162203</td>\n",
              "      <td>-0.124317</td>\n",
              "      <td>-0.105894</td>\n",
              "      <td>-0.143289</td>\n",
              "    </tr>\n",
              "    <tr>\n",
              "      <th>duration</th>\n",
              "      <td>-0.026705</td>\n",
              "      <td>0.024096</td>\n",
              "      <td>-0.035795</td>\n",
              "      <td>0.082149</td>\n",
              "      <td>-0.643734</td>\n",
              "      <td>-0.027458</td>\n",
              "      <td>0.058339</td>\n",
              "      <td>-0.014777</td>\n",
              "      <td>-0.001800</td>\n",
              "      <td>0.087475</td>\n",
              "      <td>1.000000</td>\n",
              "      <td>-0.012336</td>\n",
              "      <td>-0.028169</td>\n",
              "      <td>-0.041388</td>\n",
              "      <td>-0.032912</td>\n",
              "    </tr>\n",
              "    <tr>\n",
              "      <th>campaign</th>\n",
              "      <td>0.022216</td>\n",
              "      <td>-0.005915</td>\n",
              "      <td>0.019268</td>\n",
              "      <td>-0.012348</td>\n",
              "      <td>-0.008249</td>\n",
              "      <td>-0.003574</td>\n",
              "      <td>0.017120</td>\n",
              "      <td>0.007929</td>\n",
              "      <td>0.160706</td>\n",
              "      <td>0.162203</td>\n",
              "      <td>-0.012336</td>\n",
              "      <td>1.000000</td>\n",
              "      <td>-0.093137</td>\n",
              "      <td>-0.067833</td>\n",
              "      <td>-0.092668</td>\n",
              "    </tr>\n",
              "    <tr>\n",
              "      <th>pdays</th>\n",
              "      <td>0.035342</td>\n",
              "      <td>-0.017050</td>\n",
              "      <td>0.006886</td>\n",
              "      <td>-0.026317</td>\n",
              "      <td>0.048938</td>\n",
              "      <td>0.116893</td>\n",
              "      <td>-0.031086</td>\n",
              "      <td>0.210690</td>\n",
              "      <td>-0.094352</td>\n",
              "      <td>-0.124317</td>\n",
              "      <td>-0.028169</td>\n",
              "      <td>-0.093137</td>\n",
              "      <td>1.000000</td>\n",
              "      <td>0.577562</td>\n",
              "      <td>0.723780</td>\n",
              "    </tr>\n",
              "    <tr>\n",
              "      <th>previous</th>\n",
              "      <td>0.005140</td>\n",
              "      <td>-0.038028</td>\n",
              "      <td>0.027320</td>\n",
              "      <td>-0.026656</td>\n",
              "      <td>0.046554</td>\n",
              "      <td>0.038621</td>\n",
              "      <td>-0.022115</td>\n",
              "      <td>0.173410</td>\n",
              "      <td>-0.059114</td>\n",
              "      <td>-0.105894</td>\n",
              "      <td>-0.041388</td>\n",
              "      <td>-0.067833</td>\n",
              "      <td>0.577562</td>\n",
              "      <td>1.000000</td>\n",
              "      <td>0.620690</td>\n",
              "    </tr>\n",
              "    <tr>\n",
              "      <th>poutcome</th>\n",
              "      <td>0.015903</td>\n",
              "      <td>-0.031079</td>\n",
              "      <td>0.026825</td>\n",
              "      <td>-0.022538</td>\n",
              "      <td>0.062415</td>\n",
              "      <td>0.039403</td>\n",
              "      <td>-0.043741</td>\n",
              "      <td>0.223913</td>\n",
              "      <td>-0.057992</td>\n",
              "      <td>-0.143289</td>\n",
              "      <td>-0.032912</td>\n",
              "      <td>-0.092668</td>\n",
              "      <td>0.723780</td>\n",
              "      <td>0.620690</td>\n",
              "      <td>1.000000</td>\n",
              "    </tr>\n",
              "  </tbody>\n",
              "</table>\n",
              "</div>"
            ],
            "text/plain": [
              "                job   marital  education  ...     pdays  previous  poutcome\n",
              "job        1.000000  0.004932   0.161522  ...  0.035342  0.005140  0.015903\n",
              "marital    0.004932  1.000000  -0.109124  ... -0.017050 -0.038028 -0.031079\n",
              "education  0.161522 -0.109124   1.000000  ...  0.006886  0.027320  0.026825\n",
              "default   -0.020684  0.020745  -0.008835  ... -0.026317 -0.026656 -0.022538\n",
              "balance    0.000280 -0.036704   0.028070  ...  0.048938  0.046554  0.062415\n",
              "housing    0.151590  0.029851  -0.031251  ...  0.116893  0.038621  0.039403\n",
              "loan       0.024478  0.045210   0.016102  ... -0.031086 -0.022115 -0.043741\n",
              "contact   -0.037959 -0.037977   0.078797  ...  0.210690  0.173410  0.223913\n",
              "day        0.016521 -0.008794   0.013508  ... -0.094352 -0.059114 -0.057992\n",
              "month      0.004057  0.004535   0.005581  ... -0.124317 -0.105894 -0.143289\n",
              "duration  -0.026705  0.024096  -0.035795  ... -0.028169 -0.041388 -0.032912\n",
              "campaign   0.022216 -0.005915   0.019268  ... -0.093137 -0.067833 -0.092668\n",
              "pdays      0.035342 -0.017050   0.006886  ...  1.000000  0.577562  0.723780\n",
              "previous   0.005140 -0.038028   0.027320  ...  0.577562  1.000000  0.620690\n",
              "poutcome   0.015903 -0.031079   0.026825  ...  0.723780  0.620690  1.000000\n",
              "\n",
              "[15 rows x 15 columns]"
            ]
          },
          "metadata": {},
          "execution_count": 800
        }
      ]
    },
    {
      "cell_type": "markdown",
      "metadata": {
        "id": "uT4VSIcqN77M"
      },
      "source": [
        "# Fit"
      ]
    },
    {
      "cell_type": "code",
      "metadata": {
        "colab": {
          "base_uri": "https://localhost:8080/"
        },
        "id": "iPtksyTxhEu6",
        "outputId": "0267fd1c-e64c-4b22-c0c1-fd4a6093df80"
      },
      "source": [
        "from sklearn import tree, ensemble\n",
        "from imblearn.under_sampling import RandomUnderSampler\n",
        "from imblearn.pipeline import make_pipeline\n",
        "\n",
        "cart = tree.DecisionTreeClassifier(criterion='entropy', max_depth=8, min_samples_leaf=5)\n",
        "rus = make_pipeline(RandomUnderSampler(),tree.DecisionTreeClassifier(criterion='entropy', max_depth=8, min_samples_leaf=5))\n",
        "forest = ensemble.RandomForestClassifier(criterion='entropy', max_depth=15, min_samples_leaf=5)\n",
        "gboost = ensemble.GradientBoostingClassifier(max_depth=15, min_samples_leaf=5)\n",
        "\n",
        "cart.fit(X_train, Y_train)\n",
        "rus.fit(X_train, Y_train)\n",
        "forest.fit(X_train, Y_train)\n",
        "gboost.fit(X_train, Y_train)"
      ],
      "execution_count": null,
      "outputs": [
        {
          "output_type": "stream",
          "name": "stderr",
          "text": [
            "/usr/local/lib/python3.7/dist-packages/sklearn/utils/deprecation.py:87: FutureWarning:\n",
            "\n",
            "Function safe_indexing is deprecated; safe_indexing is deprecated in version 0.22 and will be removed in version 0.24.\n",
            "\n"
          ]
        },
        {
          "output_type": "execute_result",
          "data": {
            "text/plain": [
              "GradientBoostingClassifier(ccp_alpha=0.0, criterion='friedman_mse', init=None,\n",
              "                           learning_rate=0.1, loss='deviance', max_depth=15,\n",
              "                           max_features=None, max_leaf_nodes=None,\n",
              "                           min_impurity_decrease=0.0, min_impurity_split=None,\n",
              "                           min_samples_leaf=5, min_samples_split=2,\n",
              "                           min_weight_fraction_leaf=0.0, n_estimators=100,\n",
              "                           n_iter_no_change=None, presort='deprecated',\n",
              "                           random_state=None, subsample=1.0, tol=0.0001,\n",
              "                           validation_fraction=0.1, verbose=0,\n",
              "                           warm_start=False)"
            ]
          },
          "metadata": {},
          "execution_count": 801
        }
      ]
    },
    {
      "cell_type": "markdown",
      "metadata": {
        "id": "Yak3SW9mNuIq"
      },
      "source": [
        "## Avalia Acurácia"
      ]
    },
    {
      "cell_type": "markdown",
      "metadata": {
        "id": "iErI608LN2FQ"
      },
      "source": [
        "### Cart"
      ]
    },
    {
      "cell_type": "code",
      "metadata": {
        "colab": {
          "base_uri": "https://localhost:8080/",
          "height": 451
        },
        "id": "TT3N4JnVtjeq",
        "outputId": "5c0b3b67-aa0d-4b72-8beb-fdb583c692f6"
      },
      "source": [
        "evaluate_model(cart)"
      ],
      "execution_count": null,
      "outputs": [
        {
          "output_type": "stream",
          "name": "stdout",
          "text": [
            "Train Accuracy : 0.9068999669858039\n",
            "Train Confusion Matrix:\n",
            "[[2664   16]\n",
            " [ 266   83]]\n",
            "--------------------------------------------------\n",
            "Test Accuracy : 0.8847184986595175\n",
            "Test Confusion Matrix:\n",
            "[[1299   21]\n",
            " [ 151   21]]\n"
          ]
        },
        {
          "output_type": "display_data",
          "data": {
            "image/png": "[encoded data removed]",
            "text/plain": [
              "<Figure size 360x288 with 2 Axes>"
            ]
          },
          "metadata": {
            "needs_background": "light"
          }
        }
      ]
    },
    {
      "cell_type": "markdown",
      "metadata": {
        "id": "7-0zs1_3OK3L"
      },
      "source": [
        "### Rus"
      ]
    },
    {
      "cell_type": "code",
      "metadata": {
        "colab": {
          "base_uri": "https://localhost:8080/",
          "height": 451
        },
        "id": "ZJNSWpDZORJy",
        "outputId": "a3ea3baa-3977-48b4-8321-85befad0ccf1"
      },
      "source": [
        "evaluate_model(rus)"
      ],
      "execution_count": null,
      "outputs": [
        {
          "output_type": "stream",
          "name": "stdout",
          "text": [
            "Train Accuracy : 0.5965665236051502\n",
            "Train Confusion Matrix:\n",
            "[[1526 1154]\n",
            " [  68  281]]\n",
            "--------------------------------------------------\n",
            "Test Accuracy : 0.5341823056300268\n",
            "Test Confusion Matrix:\n",
            "[[689 631]\n",
            " [ 64 108]]\n"
          ]
        },
        {
          "output_type": "display_data",
          "data": {
            "image/png": "[encoded data removed]",
            "text/plain": [
              "<Figure size 360x288 with 2 Axes>"
            ]
          },
          "metadata": {
            "needs_background": "light"
          }
        }
      ]
    },
    {
      "cell_type": "markdown",
      "metadata": {
        "id": "t9cvPw42OU4W"
      },
      "source": [
        "### Forest"
      ]
    },
    {
      "cell_type": "code",
      "metadata": {
        "colab": {
          "base_uri": "https://localhost:8080/",
          "height": 451
        },
        "id": "Zs2H4x2XOZuA",
        "outputId": "85e2cb64-60cc-422a-ec8c-fed0b25cd349"
      },
      "source": [
        "evaluate_model(forest)"
      ],
      "execution_count": null,
      "outputs": [
        {
          "output_type": "stream",
          "name": "stdout",
          "text": [
            "Train Accuracy : 0.9088808187520634\n",
            "Train Confusion Matrix:\n",
            "[[2674    6]\n",
            " [ 270   79]]\n",
            "--------------------------------------------------\n",
            "Test Accuracy : 0.8900804289544236\n",
            "Test Confusion Matrix:\n",
            "[[1309   11]\n",
            " [ 153   19]]\n"
          ]
        },
        {
          "output_type": "display_data",
          "data": {
            "image/png": "[encoded data removed]",
            "text/plain": [
              "<Figure size 360x288 with 2 Axes>"
            ]
          },
          "metadata": {
            "needs_background": "light"
          }
        }
      ]
    },
    {
      "cell_type": "markdown",
      "metadata": {
        "id": "jxSQgtdoOiXQ"
      },
      "source": [
        "### gboost"
      ]
    },
    {
      "cell_type": "code",
      "metadata": {
        "colab": {
          "base_uri": "https://localhost:8080/",
          "height": 451
        },
        "id": "ElM2DdRuOncg",
        "outputId": "07987791-c473-4cda-b0fb-cf3bae8b27ff"
      },
      "source": [
        "evaluate_model(gboost)"
      ],
      "execution_count": null,
      "outputs": [
        {
          "output_type": "stream",
          "name": "stdout",
          "text": [
            "Train Accuracy : 1.0\n",
            "Train Confusion Matrix:\n",
            "[[2680    0]\n",
            " [   0  349]]\n",
            "--------------------------------------------------\n",
            "Test Accuracy : 0.8840482573726541\n",
            "Test Confusion Matrix:\n",
            "[[1287   33]\n",
            " [ 140   32]]\n"
          ]
        },
        {
          "output_type": "display_data",
          "data": {
            "image/png": "[encoded data removed]",
            "text/plain": [
              "<Figure size 360x288 with 2 Axes>"
            ]
          },
          "metadata": {
            "needs_background": "light"
          }
        }
      ]
    },
    {
      "cell_type": "code",
      "metadata": {
        "collapsed": true,
        "colab": {
          "base_uri": "https://localhost:8080/",
          "height": 1000
        },
        "id": "2hHipZyhhEu7",
        "outputId": "c53dd862-15b0-4e20-c2c8-cfdfa950c572"
      },
      "source": [
        "n_splits = 5\n",
        "\n",
        "from sklearn.ensemble import BaggingClassifier, AdaBoostClassifier\n",
        "ub = BaggingClassifier(warm_start=True, n_estimators=0)\n",
        "\n",
        "for split in range(n_splits):\n",
        "    X_res, y_res = RandomUnderSampler(random_state=split).fit_sample(X_train,Y_train) \n",
        "    ub.n_estimators += 1\n",
        "    ub.fit(X_res, y_res)\n",
        "    evaluate_model(ub)"
      ],
      "execution_count": null,
      "outputs": [
        {
          "output_type": "stream",
          "name": "stderr",
          "text": [
            "/usr/local/lib/python3.7/dist-packages/sklearn/utils/deprecation.py:87: FutureWarning:\n",
            "\n",
            "Function safe_indexing is deprecated; safe_indexing is deprecated in version 0.22 and will be removed in version 0.24.\n",
            "\n",
            "/usr/local/lib/python3.7/dist-packages/sklearn/utils/deprecation.py:87: FutureWarning:\n",
            "\n",
            "Function safe_indexing is deprecated; safe_indexing is deprecated in version 0.22 and will be removed in version 0.24.\n",
            "\n"
          ]
        },
        {
          "output_type": "stream",
          "name": "stdout",
          "text": [
            "Train Accuracy : 0.6612743479696269\n",
            "Train Confusion Matrix:\n",
            "[[1713  967]\n",
            " [  59  290]]\n",
            "--------------------------------------------------\n",
            "Test Accuracy : 0.618632707774799\n",
            "Test Confusion Matrix:\n",
            "[[817 503]\n",
            " [ 66 106]]\n",
            "Train Accuracy : 0.8332783096731594\n",
            "Train Confusion Matrix:\n",
            "[[2275  405]\n",
            " [ 100  249]]\n",
            "--------------------------------------------------\n",
            "Test Accuracy : 0.7660857908847185\n",
            "Test Confusion Matrix:\n",
            "[[1078  242]\n",
            " [ 107   65]]\n"
          ]
        },
        {
          "output_type": "stream",
          "name": "stderr",
          "text": [
            "/usr/local/lib/python3.7/dist-packages/sklearn/utils/deprecation.py:87: FutureWarning:\n",
            "\n",
            "Function safe_indexing is deprecated; safe_indexing is deprecated in version 0.22 and will be removed in version 0.24.\n",
            "\n",
            "/usr/local/lib/python3.7/dist-packages/sklearn/utils/deprecation.py:87: FutureWarning:\n",
            "\n",
            "Function safe_indexing is deprecated; safe_indexing is deprecated in version 0.22 and will be removed in version 0.24.\n",
            "\n"
          ]
        },
        {
          "output_type": "stream",
          "name": "stdout",
          "text": [
            "Train Accuracy : 0.7127764938923737\n",
            "Train Confusion Matrix:\n",
            "[[1828  852]\n",
            " [  18  331]]\n",
            "--------------------------------------------------\n",
            "Test Accuracy : 0.636058981233244\n",
            "Test Confusion Matrix:\n",
            "[[837 483]\n",
            " [ 60 112]]\n",
            "Train Accuracy : 0.8312974579069\n",
            "Train Confusion Matrix:\n",
            "[[2199  481]\n",
            " [  30  319]]\n",
            "--------------------------------------------------\n",
            "Test Accuracy : 0.7305630026809652\n",
            "Test Confusion Matrix:\n",
            "[[1010  310]\n",
            " [  92   80]]\n"
          ]
        },
        {
          "output_type": "stream",
          "name": "stderr",
          "text": [
            "/usr/local/lib/python3.7/dist-packages/sklearn/utils/deprecation.py:87: FutureWarning:\n",
            "\n",
            "Function safe_indexing is deprecated; safe_indexing is deprecated in version 0.22 and will be removed in version 0.24.\n",
            "\n"
          ]
        },
        {
          "output_type": "stream",
          "name": "stdout",
          "text": [
            "Train Accuracy : 0.7418289864641796\n",
            "Train Confusion Matrix:\n",
            "[[1906  774]\n",
            " [   8  341]]\n",
            "--------------------------------------------------\n",
            "Test Accuracy : 0.6481233243967829\n",
            "Test Confusion Matrix:\n",
            "[[860 460]\n",
            " [ 65 107]]\n"
          ]
        },
        {
          "output_type": "display_data",
          "data": {
            "image/png": "[encoded data removed]",
            "text/plain": [
              "<Figure size 360x288 with 2 Axes>"
            ]
          },
          "metadata": {
            "needs_background": "light"
          }
        },
        {
          "output_type": "display_data",
          "data": {
            "image/png": "[encoded data removed]",
            "text/plain": [
              "<Figure size 360x288 with 2 Axes>"
            ]
          },
          "metadata": {
            "needs_background": "light"
          }
        },
        {
          "output_type": "display_data",
          "data": {
            "image/png": "[encoded data removed]",
            "text/plain": [
              "<Figure size 360x288 with 2 Axes>"
            ]
          },
          "metadata": {
            "needs_background": "light"
          }
        },
        {
          "output_type": "display_data",
          "data": {
            "image/png": "[encoded data removed]",
            "text/plain": [
              "<Figure size 360x288 with 2 Axes>"
            ]
          },
          "metadata": {
            "needs_background": "light"
          }
        },
        {
          "output_type": "display_data",
          "data": {
            "image/png": "[encoded data removed]",
            "text/plain": [
              "<Figure size 360x288 with 2 Axes>"
            ]
          },
          "metadata": {
            "needs_background": "light"
          }
        }
      ]
    },
    {
      "cell_type": "code",
      "metadata": {
        "colab": {
          "base_uri": "https://localhost:8080/",
          "height": 404
        },
        "id": "nVQHQ2AuhEu8",
        "outputId": "5f6b14f9-529e-4d49-9eda-e1a0e608a898"
      },
      "source": [
        "def roc_auc_plot(y_true, y_proba, label=' ', l='-', lw=1.0):\n",
        "    from sklearn.metrics import roc_curve, roc_auc_score\n",
        "    fpr, tpr, _ = roc_curve(y_true, y_proba[:,1])\n",
        "    ax.plot(fpr, tpr, linestyle=l, linewidth=lw,\n",
        "            label=\"%s (area=%.3f)\"%(label,roc_auc_score(y_true, y_proba[:,1])))\n",
        "\n",
        "f, ax = plt.subplots(figsize=(6,6))\n",
        "\n",
        "roc_auc_plot(Y_test,ub.predict_proba(X_test),label='UB ',l='-')\n",
        "roc_auc_plot(Y_test,forest.predict_proba(X_test),label='FOREST ',l='--')\n",
        "roc_auc_plot(Y_test,cart.predict_proba(X_test),label='CART', l='-.')\n",
        "roc_auc_plot(Y_test,rus.predict_proba(X_test),label='RUS',l=':')\n",
        "\n",
        "ax.plot([0,1], [0,1], color='k', linewidth=0.5, linestyle='--', \n",
        "        label='Random Classifier')    \n",
        "ax.legend(loc=\"lower right\")    \n",
        "ax.set_xlabel('Avaliação de Falso Positivo')\n",
        "ax.set_ylabel('Avaliação de Verdadeiro Positivo')\n",
        "ax.set_xlim([0, 1])\n",
        "ax.set_ylim([0, 1])\n",
        "ax.set_title('Curvas de características do operador receptor ')\n",
        "sns.despine()"
      ],
      "execution_count": null,
      "outputs": [
        {
          "output_type": "display_data",
          "data": {
            "image/png": "[encoded data removed]",
            "text/plain": [
              "<Figure size 432x432 with 1 Axes>"
            ]
          },
          "metadata": {
            "needs_background": "light"
          }
        }
      ]
    },
    {
      "cell_type": "code",
      "metadata": {
        "colab": {
          "base_uri": "https://localhost:8080/",
          "height": 404
        },
        "id": "l0KjLeT0hEu9",
        "outputId": "d864a237-3953-4fcb-fee1-f5cff5139442"
      },
      "source": [
        "def precision_recall_plot(y_true, y_proba, label=' ', l='-', lw=1.0):\n",
        "    from sklearn.metrics import precision_recall_curve, average_precision_score\n",
        "    precision, recall, _ = precision_recall_curve(Y_test,\n",
        "                                                  y_proba[:,1])\n",
        "    average_precision = average_precision_score(Y_test, y_proba[:,1],\n",
        "                                                     average=\"micro\")\n",
        "    ax.plot(recall, precision, label='%s (average=%.3f)'%(label,average_precision),\n",
        "            linestyle=l, linewidth=lw)\n",
        "\n",
        "f, ax = plt.subplots(figsize=(6,6))\n",
        "precision_recall_plot(Y_test,ub.predict_proba(X_test),label='UB ',l='-')\n",
        "precision_recall_plot(Y_test,forest.predict_proba(X_test),label='FOREST ',l='-')\n",
        "precision_recall_plot(Y_test,cart.predict_proba(X_test),label='CART',l='-.')\n",
        "precision_recall_plot(Y_test,rus.predict_proba(X_test),label='RUS',l=':')\n",
        "\n",
        "ax.set_xlabel('Recall')\n",
        "ax.set_ylabel('Precision')\n",
        "ax.legend(loc=\"upper right\")\n",
        "ax.grid(True)\n",
        "ax.set_xlim([0, 1])\n",
        "ax.set_ylim([0, 1])\n",
        "ax.set_title('Curvas de precisão-recall')\n",
        "sns.despine()"
      ],
      "execution_count": null,
      "outputs": [
        {
          "output_type": "display_data",
          "data": {
            "image/png": "[encoded data removed]",
            "text/plain": [
              "<Figure size 432x432 with 1 Axes>"
            ]
          },
          "metadata": {
            "needs_background": "light"
          }
        }
      ]
    },
    {
      "cell_type": "code",
      "metadata": {
        "collapsed": true,
        "id": "KIBN4JK7hEu_"
      },
      "source": [
        "from sklearn.model_selection import train_test_split\n",
        "from sklearn.ensemble import RandomForestClassifier\n",
        "from sklearn.metrics import classification_report, confusion_matrix, accuracy_score, roc_auc_score, roc_curve, auc, precision_recall_curve\n",
        "from pandas import Series\n"
      ],
      "execution_count": null,
      "outputs": []
    },
    {
      "cell_type": "code",
      "metadata": {
        "id": "P7zj6j_-hEu_"
      },
      "source": [
        "train = df"
      ],
      "execution_count": null,
      "outputs": []
    },
    {
      "cell_type": "code",
      "metadata": {
        "colab": {
          "base_uri": "https://localhost:8080/"
        },
        "id": "5xJFlWw6hEvB",
        "outputId": "9b534ee4-ee17-4b67-e659-b2f700698a7f"
      },
      "source": [
        "df.columns"
      ],
      "execution_count": null,
      "outputs": [
        {
          "output_type": "execute_result",
          "data": {
            "text/plain": [
              "Index(['job', 'marital', 'education', 'default', 'balance', 'housing', 'loan',\n",
              "       'contact', 'day', 'month', 'duration', 'campaign', 'pdays', 'previous',\n",
              "       'poutcome', 'y'],\n",
              "      dtype='object')"
            ]
          },
          "metadata": {},
          "execution_count": 811
        }
      ]
    },
    {
      "cell_type": "code",
      "metadata": {
        "colab": {
          "base_uri": "https://localhost:8080/",
          "height": 206
        },
        "id": "mysoCPoJhEvB",
        "outputId": "855dd4bb-b4eb-476b-ea39-c48d85e429d3"
      },
      "source": [
        "df.head(5)\n",
        "\n",
        "#there are some null values so I dropped them\n"
      ],
      "execution_count": null,
      "outputs": [
        {
          "output_type": "execute_result",
          "data": {
            "text/html": [
              "<div>\n",
              "<style scoped>\n",
              "    .dataframe tbody tr th:only-of-type {\n",
              "        vertical-align: middle;\n",
              "    }\n",
              "\n",
              "    .dataframe tbody tr th {\n",
              "        vertical-align: top;\n",
              "    }\n",
              "\n",
              "    .dataframe thead th {\n",
              "        text-align: right;\n",
              "    }\n",
              "</style>\n",
              "<table border=\"1\" class=\"dataframe\">\n",
              "  <thead>\n",
              "    <tr style=\"text-align: right;\">\n",
              "      <th></th>\n",
              "      <th>job</th>\n",
              "      <th>marital</th>\n",
              "      <th>education</th>\n",
              "      <th>default</th>\n",
              "      <th>balance</th>\n",
              "      <th>housing</th>\n",
              "      <th>loan</th>\n",
              "      <th>contact</th>\n",
              "      <th>day</th>\n",
              "      <th>month</th>\n",
              "      <th>duration</th>\n",
              "      <th>campaign</th>\n",
              "      <th>pdays</th>\n",
              "      <th>previous</th>\n",
              "      <th>poutcome</th>\n",
              "      <th>y</th>\n",
              "    </tr>\n",
              "  </thead>\n",
              "  <tbody>\n",
              "    <tr>\n",
              "      <th>0</th>\n",
              "      <td>2</td>\n",
              "      <td>2</td>\n",
              "      <td>1</td>\n",
              "      <td>0</td>\n",
              "      <td>0.999024</td>\n",
              "      <td>0</td>\n",
              "      <td>0</td>\n",
              "      <td>1</td>\n",
              "      <td>19</td>\n",
              "      <td>10</td>\n",
              "      <td>0.044165</td>\n",
              "      <td>1</td>\n",
              "      <td>-0.001148</td>\n",
              "      <td>0.0</td>\n",
              "      <td>0</td>\n",
              "      <td>0</td>\n",
              "    </tr>\n",
              "    <tr>\n",
              "      <th>1</th>\n",
              "      <td>6</td>\n",
              "      <td>2</td>\n",
              "      <td>2</td>\n",
              "      <td>0</td>\n",
              "      <td>0.998946</td>\n",
              "      <td>1</td>\n",
              "      <td>1</td>\n",
              "      <td>1</td>\n",
              "      <td>11</td>\n",
              "      <td>5</td>\n",
              "      <td>0.045890</td>\n",
              "      <td>1</td>\n",
              "      <td>0.389208</td>\n",
              "      <td>4.0</td>\n",
              "      <td>1</td>\n",
              "      <td>0</td>\n",
              "    </tr>\n",
              "    <tr>\n",
              "      <th>2</th>\n",
              "      <td>9</td>\n",
              "      <td>1</td>\n",
              "      <td>3</td>\n",
              "      <td>0</td>\n",
              "      <td>0.990741</td>\n",
              "      <td>1</td>\n",
              "      <td>0</td>\n",
              "      <td>1</td>\n",
              "      <td>16</td>\n",
              "      <td>4</td>\n",
              "      <td>0.135768</td>\n",
              "      <td>1</td>\n",
              "      <td>0.378875</td>\n",
              "      <td>1.0</td>\n",
              "      <td>1</td>\n",
              "      <td>0</td>\n",
              "    </tr>\n",
              "    <tr>\n",
              "      <th>3</th>\n",
              "      <td>9</td>\n",
              "      <td>2</td>\n",
              "      <td>3</td>\n",
              "      <td>0</td>\n",
              "      <td>0.991033</td>\n",
              "      <td>1</td>\n",
              "      <td>1</td>\n",
              "      <td>0</td>\n",
              "      <td>3</td>\n",
              "      <td>6</td>\n",
              "      <td>0.133615</td>\n",
              "      <td>4</td>\n",
              "      <td>-0.001148</td>\n",
              "      <td>0.0</td>\n",
              "      <td>0</td>\n",
              "      <td>0</td>\n",
              "    </tr>\n",
              "    <tr>\n",
              "      <th>4</th>\n",
              "      <td>8</td>\n",
              "      <td>2</td>\n",
              "      <td>2</td>\n",
              "      <td>0</td>\n",
              "      <td>0.000000</td>\n",
              "      <td>1</td>\n",
              "      <td>0</td>\n",
              "      <td>0</td>\n",
              "      <td>5</td>\n",
              "      <td>5</td>\n",
              "      <td>1.000000</td>\n",
              "      <td>1</td>\n",
              "      <td>-0.001148</td>\n",
              "      <td>0.0</td>\n",
              "      <td>0</td>\n",
              "      <td>0</td>\n",
              "    </tr>\n",
              "  </tbody>\n",
              "</table>\n",
              "</div>"
            ],
            "text/plain": [
              "   job  marital  education  default  ...     pdays  previous  poutcome  y\n",
              "0    2        2          1        0  ... -0.001148       0.0         0  0\n",
              "1    6        2          2        0  ...  0.389208       4.0         1  0\n",
              "2    9        1          3        0  ...  0.378875       1.0         1  0\n",
              "3    9        2          3        0  ... -0.001148       0.0         0  0\n",
              "4    8        2          2        0  ... -0.001148       0.0         0  0\n",
              "\n",
              "[5 rows x 16 columns]"
            ]
          },
          "metadata": {},
          "execution_count": 812
        }
      ]
    },
    {
      "cell_type": "code",
      "metadata": {
        "colab": {
          "base_uri": "https://localhost:8080/"
        },
        "id": "aTrxWW-EhEvC",
        "outputId": "dfaf626c-6ff6-4703-ad30-e441f6d4f230"
      },
      "source": [
        "df.isnull().sum().sum()\n"
      ],
      "execution_count": null,
      "outputs": [
        {
          "output_type": "execute_result",
          "data": {
            "text/plain": [
              "0"
            ]
          },
          "metadata": {},
          "execution_count": 813
        }
      ]
    },
    {
      "cell_type": "code",
      "metadata": {
        "colab": {
          "base_uri": "https://localhost:8080/",
          "height": 424
        },
        "id": "kMAaTs3UhEvC",
        "outputId": "b6e440c0-5d0d-4534-ab53-afa37c3e66d4"
      },
      "source": [
        "train = df.dropna()\n",
        "train.isnull().sum().sum()\n",
        "\n",
        "train"
      ],
      "execution_count": null,
      "outputs": [
        {
          "output_type": "execute_result",
          "data": {
            "text/html": [
              "<div>\n",
              "<style scoped>\n",
              "    .dataframe tbody tr th:only-of-type {\n",
              "        vertical-align: middle;\n",
              "    }\n",
              "\n",
              "    .dataframe tbody tr th {\n",
              "        vertical-align: top;\n",
              "    }\n",
              "\n",
              "    .dataframe thead th {\n",
              "        text-align: right;\n",
              "    }\n",
              "</style>\n",
              "<table border=\"1\" class=\"dataframe\">\n",
              "  <thead>\n",
              "    <tr style=\"text-align: right;\">\n",
              "      <th></th>\n",
              "      <th>job</th>\n",
              "      <th>marital</th>\n",
              "      <th>education</th>\n",
              "      <th>default</th>\n",
              "      <th>balance</th>\n",
              "      <th>housing</th>\n",
              "      <th>loan</th>\n",
              "      <th>contact</th>\n",
              "      <th>day</th>\n",
              "      <th>month</th>\n",
              "      <th>duration</th>\n",
              "      <th>campaign</th>\n",
              "      <th>pdays</th>\n",
              "      <th>previous</th>\n",
              "      <th>poutcome</th>\n",
              "      <th>y</th>\n",
              "    </tr>\n",
              "  </thead>\n",
              "  <tbody>\n",
              "    <tr>\n",
              "      <th>0</th>\n",
              "      <td>2</td>\n",
              "      <td>2</td>\n",
              "      <td>1</td>\n",
              "      <td>0</td>\n",
              "      <td>0.999024</td>\n",
              "      <td>0</td>\n",
              "      <td>0</td>\n",
              "      <td>1</td>\n",
              "      <td>19</td>\n",
              "      <td>10</td>\n",
              "      <td>0.044165</td>\n",
              "      <td>1</td>\n",
              "      <td>-0.001148</td>\n",
              "      <td>0.0</td>\n",
              "      <td>0</td>\n",
              "      <td>0</td>\n",
              "    </tr>\n",
              "    <tr>\n",
              "      <th>1</th>\n",
              "      <td>6</td>\n",
              "      <td>2</td>\n",
              "      <td>2</td>\n",
              "      <td>0</td>\n",
              "      <td>0.998946</td>\n",
              "      <td>1</td>\n",
              "      <td>1</td>\n",
              "      <td>1</td>\n",
              "      <td>11</td>\n",
              "      <td>5</td>\n",
              "      <td>0.045890</td>\n",
              "      <td>1</td>\n",
              "      <td>0.389208</td>\n",
              "      <td>4.0</td>\n",
              "      <td>1</td>\n",
              "      <td>0</td>\n",
              "    </tr>\n",
              "    <tr>\n",
              "      <th>2</th>\n",
              "      <td>9</td>\n",
              "      <td>1</td>\n",
              "      <td>3</td>\n",
              "      <td>0</td>\n",
              "      <td>0.990741</td>\n",
              "      <td>1</td>\n",
              "      <td>0</td>\n",
              "      <td>1</td>\n",
              "      <td>16</td>\n",
              "      <td>4</td>\n",
              "      <td>0.135768</td>\n",
              "      <td>1</td>\n",
              "      <td>0.378875</td>\n",
              "      <td>1.0</td>\n",
              "      <td>1</td>\n",
              "      <td>0</td>\n",
              "    </tr>\n",
              "    <tr>\n",
              "      <th>3</th>\n",
              "      <td>9</td>\n",
              "      <td>2</td>\n",
              "      <td>3</td>\n",
              "      <td>0</td>\n",
              "      <td>0.991033</td>\n",
              "      <td>1</td>\n",
              "      <td>1</td>\n",
              "      <td>0</td>\n",
              "      <td>3</td>\n",
              "      <td>6</td>\n",
              "      <td>0.133615</td>\n",
              "      <td>4</td>\n",
              "      <td>-0.001148</td>\n",
              "      <td>0.0</td>\n",
              "      <td>0</td>\n",
              "      <td>0</td>\n",
              "    </tr>\n",
              "    <tr>\n",
              "      <th>4</th>\n",
              "      <td>8</td>\n",
              "      <td>2</td>\n",
              "      <td>2</td>\n",
              "      <td>0</td>\n",
              "      <td>0.000000</td>\n",
              "      <td>1</td>\n",
              "      <td>0</td>\n",
              "      <td>0</td>\n",
              "      <td>5</td>\n",
              "      <td>5</td>\n",
              "      <td>1.000000</td>\n",
              "      <td>1</td>\n",
              "      <td>-0.001148</td>\n",
              "      <td>0.0</td>\n",
              "      <td>0</td>\n",
              "      <td>0</td>\n",
              "    </tr>\n",
              "    <tr>\n",
              "      <th>...</th>\n",
              "      <td>...</td>\n",
              "      <td>...</td>\n",
              "      <td>...</td>\n",
              "      <td>...</td>\n",
              "      <td>...</td>\n",
              "      <td>...</td>\n",
              "      <td>...</td>\n",
              "      <td>...</td>\n",
              "      <td>...</td>\n",
              "      <td>...</td>\n",
              "      <td>...</td>\n",
              "      <td>...</td>\n",
              "      <td>...</td>\n",
              "      <td>...</td>\n",
              "      <td>...</td>\n",
              "      <td>...</td>\n",
              "    </tr>\n",
              "    <tr>\n",
              "      <th>4516</th>\n",
              "      <td>6</td>\n",
              "      <td>2</td>\n",
              "      <td>2</td>\n",
              "      <td>0</td>\n",
              "      <td>-0.711366</td>\n",
              "      <td>1</td>\n",
              "      <td>0</td>\n",
              "      <td>1</td>\n",
              "      <td>30</td>\n",
              "      <td>7</td>\n",
              "      <td>0.702821</td>\n",
              "      <td>5</td>\n",
              "      <td>-0.001148</td>\n",
              "      <td>0.0</td>\n",
              "      <td>0</td>\n",
              "      <td>0</td>\n",
              "    </tr>\n",
              "    <tr>\n",
              "      <th>4517</th>\n",
              "      <td>5</td>\n",
              "      <td>2</td>\n",
              "      <td>3</td>\n",
              "      <td>1</td>\n",
              "      <td>-0.998935</td>\n",
              "      <td>1</td>\n",
              "      <td>1</td>\n",
              "      <td>0</td>\n",
              "      <td>9</td>\n",
              "      <td>5</td>\n",
              "      <td>0.046133</td>\n",
              "      <td>1</td>\n",
              "      <td>-0.001148</td>\n",
              "      <td>0.0</td>\n",
              "      <td>0</td>\n",
              "      <td>0</td>\n",
              "    </tr>\n",
              "    <tr>\n",
              "      <th>4518</th>\n",
              "      <td>7</td>\n",
              "      <td>2</td>\n",
              "      <td>2</td>\n",
              "      <td>0</td>\n",
              "      <td>0.890163</td>\n",
              "      <td>0</td>\n",
              "      <td>0</td>\n",
              "      <td>1</td>\n",
              "      <td>19</td>\n",
              "      <td>8</td>\n",
              "      <td>0.455643</td>\n",
              "      <td>11</td>\n",
              "      <td>-0.001148</td>\n",
              "      <td>0.0</td>\n",
              "      <td>0</td>\n",
              "      <td>0</td>\n",
              "    </tr>\n",
              "    <tr>\n",
              "      <th>4519</th>\n",
              "      <td>8</td>\n",
              "      <td>2</td>\n",
              "      <td>2</td>\n",
              "      <td>0</td>\n",
              "      <td>0.993625</td>\n",
              "      <td>0</td>\n",
              "      <td>0</td>\n",
              "      <td>1</td>\n",
              "      <td>6</td>\n",
              "      <td>2</td>\n",
              "      <td>0.112733</td>\n",
              "      <td>4</td>\n",
              "      <td>0.242250</td>\n",
              "      <td>3.0</td>\n",
              "      <td>3</td>\n",
              "      <td>0</td>\n",
              "    </tr>\n",
              "    <tr>\n",
              "      <th>4520</th>\n",
              "      <td>3</td>\n",
              "      <td>1</td>\n",
              "      <td>3</td>\n",
              "      <td>0</td>\n",
              "      <td>0.956847</td>\n",
              "      <td>1</td>\n",
              "      <td>1</td>\n",
              "      <td>1</td>\n",
              "      <td>3</td>\n",
              "      <td>4</td>\n",
              "      <td>0.290592</td>\n",
              "      <td>2</td>\n",
              "      <td>0.285878</td>\n",
              "      <td>7.0</td>\n",
              "      <td>3</td>\n",
              "      <td>0</td>\n",
              "    </tr>\n",
              "  </tbody>\n",
              "</table>\n",
              "<p>4521 rows × 16 columns</p>\n",
              "</div>"
            ],
            "text/plain": [
              "      job  marital  education  default  ...     pdays  previous  poutcome  y\n",
              "0       2        2          1        0  ... -0.001148       0.0         0  0\n",
              "1       6        2          2        0  ...  0.389208       4.0         1  0\n",
              "2       9        1          3        0  ...  0.378875       1.0         1  0\n",
              "3       9        2          3        0  ... -0.001148       0.0         0  0\n",
              "4       8        2          2        0  ... -0.001148       0.0         0  0\n",
              "...   ...      ...        ...      ...  ...       ...       ...       ... ..\n",
              "4516    6        2          2        0  ... -0.001148       0.0         0  0\n",
              "4517    5        2          3        1  ... -0.001148       0.0         0  0\n",
              "4518    7        2          2        0  ... -0.001148       0.0         0  0\n",
              "4519    8        2          2        0  ...  0.242250       3.0         3  0\n",
              "4520    3        1          3        0  ...  0.285878       7.0         3  0\n",
              "\n",
              "[4521 rows x 16 columns]"
            ]
          },
          "metadata": {},
          "execution_count": 814
        }
      ]
    },
    {
      "cell_type": "code",
      "metadata": {
        "collapsed": true,
        "id": "GXB0yle1hEvD"
      },
      "source": [
        "#train = train.drop(['lead_time'], axis = 1)\n",
        "#train['lead_time'] = train['lead_time'].fillna(train['lead_time'].mean())\n",
        "#train=train.drop(['sku'], axis=1)\n",
        "#train.replace(['Yes', 'No'], [1, 0])\n",
        "\n",
        "#train['went_on_backorder']=train['went_on_backorder'].map( {'No': 0, 'Yes': 1} ).astype(int)\n",
        "#train['potential_issue']=train['potential_issue'].map( {'No': 0, 'Yes': 1} ).astype(int)\n",
        "#train['deck_risk']=train['deck_risk'].map( {'No': 0, 'Yes': 1} ).astype(int)\n",
        "#train['oe_constraint']=train['oe_constraint'].map( {'No': 0, 'Yes': 1} ).astype(int)\n",
        "#train['ppap_risk']=train['ppap_risk'].map( {'No': 0, 'Yes': 1} ).astype(int)\n",
        "#train['stop_auto_buy']=train['stop_auto_buy'].map( {'No': 0, 'Yes': 1} ).astype(int)\n",
        "#train['rev_stop']=train['rev_stop'].map( {'No': 0, 'Yes': 1} ).astype(int)"
      ],
      "execution_count": null,
      "outputs": []
    },
    {
      "cell_type": "code",
      "metadata": {
        "colab": {
          "base_uri": "https://localhost:8080/",
          "height": 542
        },
        "id": "5q-tBylahEvD",
        "outputId": "a8330f3e-71e1-4769-916d-150b40fa42ed"
      },
      "source": [
        "import plotly.offline as py\n",
        "py.init_notebook_mode(connected=True)\n",
        "import plotly.graph_objs as go\n",
        "\n",
        "a=[column for column in train]\n",
        "trace = go.Heatmap(z=train.corr().values,\n",
        "                   x=a,\n",
        "                   y=a)\n",
        "data=[trace]\n",
        "py.iplot(data, filename='backorders heatmap')"
      ],
      "execution_count": null,
      "outputs": [
        {
          "output_type": "display_data",
          "data": {
            "text/html": [
              "        <script type=\"text/javascript\">\n",
              "        window.PlotlyConfig = {MathJaxConfig: 'local'};\n",
              "        if (window.MathJax) {MathJax.Hub.Config({SVG: {font: \"STIX-Web\"}});}\n",
              "        if (typeof require !== 'undefined') {\n",
              "        require.undef(\"plotly\");\n",
              "        requirejs.config({\n",
              "            paths: {\n",
              "                'plotly': ['https://cdn.plot.ly/plotly-latest.min']\n",
              "            }\n",
              "        });\n",
              "        require(['plotly'], function(Plotly) {\n",
              "            window._Plotly = Plotly;\n",
              "        });\n",
              "        }\n",
              "        </script>\n",
              "        "
            ]
          },
          "metadata": {}
        },
        {
          "output_type": "display_data",
          "data": {
            "text/html": [
              "<div>\n",
              "        \n",
              "        \n",
              "            <div id=\"9415dda2-dc88-4ac2-851b-e0d992aa1839\" class=\"plotly-graph-div\" style=\"height:525px; width:100%;\"></div>\n",
              "            <script type=\"text/javascript\">\n",
              "                require([\"plotly\"], function(Plotly) {\n",
              "                    window.PLOTLYENV=window.PLOTLYENV || {};\n",
              "                    \n",
              "                if (document.getElementById(\"9415dda2-dc88-4ac2-851b-e0d992aa1839\")) {\n",
              "                    Plotly.newPlot(\n",
              "                        '9415dda2-dc88-4ac2-851b-e0d992aa1839',\n",
              "                        [{\"type\": \"heatmap\", \"x\": [\"job\", \"marital\", \"education\", \"default\", \"balance\", \"housing\", \"loan\", \"contact\", \"day\", \"month\", \"duration\", \"campaign\", \"pdays\", \"previous\", \"poutcome\", \"y\"], \"y\": [\"job\", \"marital\", \"education\", \"default\", \"balance\", \"housing\", \"loan\", \"contact\", \"day\", \"month\", \"duration\", \"campaign\", \"pdays\", \"previous\", \"poutcome\", \"y\"], \"z\": [[1.0, 0.004931910411013492, 0.16152205781447423, -0.02068375513582262, 0.0002798719421914055, 0.1515903314249178, 0.02447817795615591, -0.037959005869695764, 0.016520846443808097, 0.004057247851220869, -0.026705001156272924, 0.022216362066736033, 0.035342300087602606, 0.0051401373637259004, 0.01590329577802594, -0.02670099760914081], [0.004931910411013492, 1.0, -0.10912374438191672, 0.020744765994452744, -0.03670410132949675, 0.029851263072685957, 0.04521030276330248, -0.03797677972257237, -0.008794165589193301, 0.00453461297853744, 0.02409588786401166, -0.005914831287877697, -0.017050091197664402, -0.03802774510560156, -0.031078780592203384, -0.015041881891451512], [0.16152205781447423, -0.10912374438191672, 1.0, -0.008834830757385458, 0.028070433413889446, -0.03125055377642861, 0.016101562871544337, 0.07879695240834751, 0.013508135855046238, 0.0055813531887444374, -0.03579529690036159, 0.01926799790948917, 0.006886138793171893, 0.027319856922012612, 0.02682466398944813, 0.050264986213161375], [-0.02068375513582262, 0.020744765994452744, -0.008834830757385458, 1.0, -0.22608602762261923, 0.0068806450416663825, 0.06399394536289046, -0.021082086447207216, -0.013260779470614896, -0.002624441278587926, 0.08214865169958159, -0.012347686172779876, -0.026316612806674966, -0.026656427840274485, -0.02253762276703781, 0.0013026526456219152], [0.0002798719421914055, -0.03670410132949675, 0.028070433413889446, -0.22608602762261923, 1.0, -0.0485669145021852, -0.09695281011852885, 0.05710706795153495, -0.029976632289651833, -0.07423545331785077, -0.6437344955987298, -0.008249152691193527, 0.048937924517584816, 0.046554459413086245, 0.06241490780181289, 0.00094984210898068], [0.1515903314249178, 0.029851263072685957, -0.03125055377642861, 0.0068806450416663825, -0.0485669145021852, 1.0, 0.018450767511026984, -0.21057410720478967, -0.03129101236824365, -0.17327506513343288, -0.027458075380618785, -0.003573573583611497, 0.11689327259257297, 0.038620582618810156, 0.03940293065023039, -0.1046834003510661], [0.02447817795615591, 0.04521030276330248, 0.016101562871544337, 0.06399394536289046, -0.09695281011852885, 0.018450767511026984, 1.0, 0.0026103844152605827, -0.004879370486429893, 0.008959958991981211, 0.0583391913007745, 0.017119987599516807, -0.03108640551028303, -0.022114829395465937, -0.04374099557742172, -0.07051703515462378], [-0.037959005869695764, -0.03797677972257237, 0.07879695240834751, -0.021082086447207216, 0.05710706795153495, -0.21057410720478967, 0.0026103844152605827, 1.0, 0.06349647901632638, -0.05367874982505347, -0.014776966537273018, 0.007928917667462107, 0.21068962485041406, 0.17341040748394188, 0.2239127294060523, 0.1258816386290989], [0.016520846443808097, -0.008794165589193301, 0.013508135855046238, -0.013260779470614896, -0.029976632289651833, -0.03129101236824365, -0.004879370486429893, 0.06349647901632638, 1.0, -0.04251347499528778, -0.0017999474791426623, 0.16070606913904129, -0.09435151957139468, -0.05911439404177577, -0.0579922027247444, -0.011244207925172951], [0.004057247851220869, 0.00453461297853744, 0.0055813531887444374, -0.002624441278587926, -0.07423545331785077, -0.17327506513343288, 0.008959958991981211, -0.05367874982505347, -0.04251347499528778, 1.0, 0.08747455178787404, 0.16220312146010604, -0.12431740487316674, -0.10589441507439241, -0.1432885512848702, 0.040711419247113585], [-0.026705001156272924, 0.02409588786401166, -0.03579529690036159, 0.08214865169958159, -0.6437344955987298, -0.027458075380618785, 0.0583391913007745, -0.014776966537273018, -0.0017999474791426623, 0.08747455178787404, 1.0, -0.01233595360854787, -0.0281694708876823, -0.041388106916565685, -0.03291237343243967, 0.07934851624880179], [0.022216362066736033, -0.005914831287877697, 0.01926799790948917, -0.012347686172779876, -0.008249152691193527, -0.003573573583611497, 0.017119987599516807, 0.007928917667462107, 0.16070606913904129, 0.16220312146010604, -0.01233595360854787, 1.0, -0.09313681840575182, -0.06783263049126001, -0.09266753060452212, -0.06114743110383027], [0.035342300087602606, -0.017050091197664402, 0.006886138793171893, -0.026316612806674966, 0.048937924517584816, 0.11689327259257297, -0.03108640551028303, 0.21068962485041406, -0.09435151957139468, -0.12431740487316674, -0.0281694708876823, -0.09313681840575182, 1.0, 0.5775618266478552, 0.7237797432221461, 0.10408681940919971], [0.0051401373637259004, -0.03802774510560156, 0.027319856922012612, -0.026656427840274485, 0.046554459413086245, 0.038620582618810156, -0.022114829395465937, 0.17341040748394188, -0.05911439404177577, -0.10589441507439241, -0.041388106916565685, -0.06783263049126001, 0.5775618266478552, 1.0, 0.620689712364735, 0.11671443565542357], [0.01590329577802594, -0.031078780592203384, 0.02682466398944813, -0.02253762276703781, 0.06241490780181289, 0.03940293065023039, -0.04374099557742172, 0.2239127294060523, -0.0579922027247444, -0.1432885512848702, -0.03291237343243967, -0.09266753060452212, 0.7237797432221461, 0.620689712364735, 1.0, 0.1800595565860657], [-0.02670099760914081, -0.015041881891451512, 0.050264986213161375, 0.0013026526456219152, 0.00094984210898068, -0.1046834003510661, -0.07051703515462378, 0.1258816386290989, -0.011244207925172951, 0.040711419247113585, 0.07934851624880179, -0.06114743110383027, 0.10408681940919971, 0.11671443565542357, 0.1800595565860657, 1.0]]}],\n",
              "                        {\"template\": {\"data\": {\"bar\": [{\"error_x\": {\"color\": \"#2a3f5f\"}, \"error_y\": {\"color\": \"#2a3f5f\"}, \"marker\": {\"line\": {\"color\": \"#E5ECF6\", \"width\": 0.5}}, \"type\": \"bar\"}], \"barpolar\": [{\"marker\": {\"line\": {\"color\": \"#E5ECF6\", \"width\": 0.5}}, \"type\": \"barpolar\"}], \"carpet\": [{\"aaxis\": {\"endlinecolor\": \"#2a3f5f\", \"gridcolor\": \"white\", \"linecolor\": \"white\", \"minorgridcolor\": \"white\", \"startlinecolor\": \"#2a3f5f\"}, \"baxis\": {\"endlinecolor\": \"#2a3f5f\", \"gridcolor\": \"white\", \"linecolor\": \"white\", \"minorgridcolor\": \"white\", \"startlinecolor\": \"#2a3f5f\"}, \"type\": \"carpet\"}], \"choropleth\": [{\"colorbar\": {\"outlinewidth\": 0, \"ticks\": \"\"}, \"type\": \"choropleth\"}], \"contour\": [{\"colorbar\": {\"outlinewidth\": 0, \"ticks\": \"\"}, \"colorscale\": [[0.0, \"#0d0887\"], [0.1111111111111111, \"#46039f\"], [0.2222222222222222, \"#7201a8\"], [0.3333333333333333, \"#9c179e\"], [0.4444444444444444, \"#bd3786\"], [0.5555555555555556, \"#d8576b\"], [0.6666666666666666, \"#ed7953\"], [0.7777777777777778, \"#fb9f3a\"], [0.8888888888888888, \"#fdca26\"], [1.0, \"#f0f921\"]], \"type\": \"contour\"}], \"contourcarpet\": [{\"colorbar\": {\"outlinewidth\": 0, \"ticks\": \"\"}, \"type\": \"contourcarpet\"}], \"heatmap\": [{\"colorbar\": {\"outlinewidth\": 0, \"ticks\": \"\"}, \"colorscale\": [[0.0, \"#0d0887\"], [0.1111111111111111, \"#46039f\"], [0.2222222222222222, \"#7201a8\"], [0.3333333333333333, \"#9c179e\"], [0.4444444444444444, \"#bd3786\"], [0.5555555555555556, \"#d8576b\"], [0.6666666666666666, \"#ed7953\"], [0.7777777777777778, \"#fb9f3a\"], [0.8888888888888888, \"#fdca26\"], [1.0, \"#f0f921\"]], \"type\": \"heatmap\"}], \"heatmapgl\": [{\"colorbar\": {\"outlinewidth\": 0, \"ticks\": \"\"}, \"colorscale\": [[0.0, \"#0d0887\"], [0.1111111111111111, \"#46039f\"], [0.2222222222222222, \"#7201a8\"], [0.3333333333333333, \"#9c179e\"], [0.4444444444444444, \"#bd3786\"], [0.5555555555555556, \"#d8576b\"], [0.6666666666666666, \"#ed7953\"], [0.7777777777777778, \"#fb9f3a\"], [0.8888888888888888, \"#fdca26\"], [1.0, \"#f0f921\"]], \"type\": \"heatmapgl\"}], \"histogram\": [{\"marker\": {\"colorbar\": {\"outlinewidth\": 0, \"ticks\": \"\"}}, \"type\": \"histogram\"}], \"histogram2d\": [{\"colorbar\": {\"outlinewidth\": 0, \"ticks\": \"\"}, \"colorscale\": [[0.0, \"#0d0887\"], [0.1111111111111111, \"#46039f\"], [0.2222222222222222, \"#7201a8\"], [0.3333333333333333, \"#9c179e\"], [0.4444444444444444, \"#bd3786\"], [0.5555555555555556, \"#d8576b\"], [0.6666666666666666, \"#ed7953\"], [0.7777777777777778, \"#fb9f3a\"], [0.8888888888888888, \"#fdca26\"], [1.0, \"#f0f921\"]], \"type\": \"histogram2d\"}], \"histogram2dcontour\": [{\"colorbar\": {\"outlinewidth\": 0, \"ticks\": \"\"}, \"colorscale\": [[0.0, \"#0d0887\"], [0.1111111111111111, \"#46039f\"], [0.2222222222222222, \"#7201a8\"], [0.3333333333333333, \"#9c179e\"], [0.4444444444444444, \"#bd3786\"], [0.5555555555555556, \"#d8576b\"], [0.6666666666666666, \"#ed7953\"], [0.7777777777777778, \"#fb9f3a\"], [0.8888888888888888, \"#fdca26\"], [1.0, \"#f0f921\"]], \"type\": \"histogram2dcontour\"}], \"mesh3d\": [{\"colorbar\": {\"outlinewidth\": 0, \"ticks\": \"\"}, \"type\": \"mesh3d\"}], \"parcoords\": [{\"line\": {\"colorbar\": {\"outlinewidth\": 0, \"ticks\": \"\"}}, \"type\": \"parcoords\"}], \"pie\": [{\"automargin\": true, \"type\": \"pie\"}], \"scatter\": [{\"marker\": {\"colorbar\": {\"outlinewidth\": 0, \"ticks\": \"\"}}, \"type\": \"scatter\"}], \"scatter3d\": [{\"line\": {\"colorbar\": {\"outlinewidth\": 0, \"ticks\": \"\"}}, \"marker\": {\"colorbar\": {\"outlinewidth\": 0, \"ticks\": \"\"}}, \"type\": \"scatter3d\"}], \"scattercarpet\": [{\"marker\": {\"colorbar\": {\"outlinewidth\": 0, \"ticks\": \"\"}}, \"type\": \"scattercarpet\"}], \"scattergeo\": [{\"marker\": {\"colorbar\": {\"outlinewidth\": 0, \"ticks\": \"\"}}, \"type\": \"scattergeo\"}], \"scattergl\": [{\"marker\": {\"colorbar\": {\"outlinewidth\": 0, \"ticks\": \"\"}}, \"type\": \"scattergl\"}], \"scattermapbox\": [{\"marker\": {\"colorbar\": {\"outlinewidth\": 0, \"ticks\": \"\"}}, \"type\": \"scattermapbox\"}], \"scatterpolar\": [{\"marker\": {\"colorbar\": {\"outlinewidth\": 0, \"ticks\": \"\"}}, \"type\": \"scatterpolar\"}], \"scatterpolargl\": [{\"marker\": {\"colorbar\": {\"outlinewidth\": 0, \"ticks\": \"\"}}, \"type\": \"scatterpolargl\"}], \"scatterternary\": [{\"marker\": {\"colorbar\": {\"outlinewidth\": 0, \"ticks\": \"\"}}, \"type\": \"scatterternary\"}], \"surface\": [{\"colorbar\": {\"outlinewidth\": 0, \"ticks\": \"\"}, \"colorscale\": [[0.0, \"#0d0887\"], [0.1111111111111111, \"#46039f\"], [0.2222222222222222, \"#7201a8\"], [0.3333333333333333, \"#9c179e\"], [0.4444444444444444, \"#bd3786\"], [0.5555555555555556, \"#d8576b\"], [0.6666666666666666, \"#ed7953\"], [0.7777777777777778, \"#fb9f3a\"], [0.8888888888888888, \"#fdca26\"], [1.0, \"#f0f921\"]], \"type\": \"surface\"}], \"table\": [{\"cells\": {\"fill\": {\"color\": \"#EBF0F8\"}, \"line\": {\"color\": \"white\"}}, \"header\": {\"fill\": {\"color\": \"#C8D4E3\"}, \"line\": {\"color\": \"white\"}}, \"type\": \"table\"}]}, \"layout\": {\"annotationdefaults\": {\"arrowcolor\": \"#2a3f5f\", \"arrowhead\": 0, \"arrowwidth\": 1}, \"coloraxis\": {\"colorbar\": {\"outlinewidth\": 0, \"ticks\": \"\"}}, \"colorscale\": {\"diverging\": [[0, \"#8e0152\"], [0.1, \"#c51b7d\"], [0.2, \"#de77ae\"], [0.3, \"#f1b6da\"], [0.4, \"#fde0ef\"], [0.5, \"#f7f7f7\"], [0.6, \"#e6f5d0\"], [0.7, \"#b8e186\"], [0.8, \"#7fbc41\"], [0.9, \"#4d9221\"], [1, \"#276419\"]], \"sequential\": [[0.0, \"#0d0887\"], [0.1111111111111111, \"#46039f\"], [0.2222222222222222, \"#7201a8\"], [0.3333333333333333, \"#9c179e\"], [0.4444444444444444, \"#bd3786\"], [0.5555555555555556, \"#d8576b\"], [0.6666666666666666, \"#ed7953\"], [0.7777777777777778, \"#fb9f3a\"], [0.8888888888888888, \"#fdca26\"], [1.0, \"#f0f921\"]], \"sequentialminus\": [[0.0, \"#0d0887\"], [0.1111111111111111, \"#46039f\"], [0.2222222222222222, \"#7201a8\"], [0.3333333333333333, \"#9c179e\"], [0.4444444444444444, \"#bd3786\"], [0.5555555555555556, \"#d8576b\"], [0.6666666666666666, \"#ed7953\"], [0.7777777777777778, \"#fb9f3a\"], [0.8888888888888888, \"#fdca26\"], [1.0, \"#f0f921\"]]}, \"colorway\": [\"#636efa\", \"#EF553B\", \"#00cc96\", \"#ab63fa\", \"#FFA15A\", \"#19d3f3\", \"#FF6692\", \"#B6E880\", \"#FF97FF\", \"#FECB52\"], \"font\": {\"color\": \"#2a3f5f\"}, \"geo\": {\"bgcolor\": \"white\", \"lakecolor\": \"white\", \"landcolor\": \"#E5ECF6\", \"showlakes\": true, \"showland\": true, \"subunitcolor\": \"white\"}, \"hoverlabel\": {\"align\": \"left\"}, \"hovermode\": \"closest\", \"mapbox\": {\"style\": \"light\"}, \"paper_bgcolor\": \"white\", \"plot_bgcolor\": \"#E5ECF6\", \"polar\": {\"angularaxis\": {\"gridcolor\": \"white\", \"linecolor\": \"white\", \"ticks\": \"\"}, \"bgcolor\": \"#E5ECF6\", \"radialaxis\": {\"gridcolor\": \"white\", \"linecolor\": \"white\", \"ticks\": \"\"}}, \"scene\": {\"xaxis\": {\"backgroundcolor\": \"#E5ECF6\", \"gridcolor\": \"white\", \"gridwidth\": 2, \"linecolor\": \"white\", \"showbackground\": true, \"ticks\": \"\", \"zerolinecolor\": \"white\"}, \"yaxis\": {\"backgroundcolor\": \"#E5ECF6\", \"gridcolor\": \"white\", \"gridwidth\": 2, \"linecolor\": \"white\", \"showbackground\": true, \"ticks\": \"\", \"zerolinecolor\": \"white\"}, \"zaxis\": {\"backgroundcolor\": \"#E5ECF6\", \"gridcolor\": \"white\", \"gridwidth\": 2, \"linecolor\": \"white\", \"showbackground\": true, \"ticks\": \"\", \"zerolinecolor\": \"white\"}}, \"shapedefaults\": {\"line\": {\"color\": \"#2a3f5f\"}}, \"ternary\": {\"aaxis\": {\"gridcolor\": \"white\", \"linecolor\": \"white\", \"ticks\": \"\"}, \"baxis\": {\"gridcolor\": \"white\", \"linecolor\": \"white\", \"ticks\": \"\"}, \"bgcolor\": \"#E5ECF6\", \"caxis\": {\"gridcolor\": \"white\", \"linecolor\": \"white\", \"ticks\": \"\"}}, \"title\": {\"x\": 0.05}, \"xaxis\": {\"automargin\": true, \"gridcolor\": \"white\", \"linecolor\": \"white\", \"ticks\": \"\", \"title\": {\"standoff\": 15}, \"zerolinecolor\": \"white\", \"zerolinewidth\": 2}, \"yaxis\": {\"automargin\": true, \"gridcolor\": \"white\", \"linecolor\": \"white\", \"ticks\": \"\", \"title\": {\"standoff\": 15}, \"zerolinecolor\": \"white\", \"zerolinewidth\": 2}}}},\n",
              "                        {\"responsive\": true}\n",
              "                    ).then(function(){\n",
              "                            \n",
              "var gd = document.getElementById('9415dda2-dc88-4ac2-851b-e0d992aa1839');\n",
              "var x = new MutationObserver(function (mutations, observer) {{\n",
              "        var display = window.getComputedStyle(gd).display;\n",
              "        if (!display || display === 'none') {{\n",
              "            console.log([gd, 'removed!']);\n",
              "            Plotly.purge(gd);\n",
              "            observer.disconnect();\n",
              "        }}\n",
              "}});\n",
              "\n",
              "// Listen for the removal of the full notebook cells\n",
              "var notebookContainer = gd.closest('#notebook-container');\n",
              "if (notebookContainer) {{\n",
              "    x.observe(notebookContainer, {childList: true});\n",
              "}}\n",
              "\n",
              "// Listen for the clearing of the current output cell\n",
              "var outputEl = gd.closest('.output');\n",
              "if (outputEl) {{\n",
              "    x.observe(outputEl, {childList: true});\n",
              "}}\n",
              "\n",
              "                        })\n",
              "                };\n",
              "                });\n",
              "            </script>\n",
              "        </div>"
            ],
            "application/vnd.plotly.v1+json": {
              "data": [
                {
                  "y": [
                    "job",
                    "marital",
                    "education",
                    "default",
                    "balance",
                    "housing",
                    "loan",
                    "contact",
                    "day",
                    "month",
                    "duration",
                    "campaign",
                    "pdays",
                    "previous",
                    "poutcome",
                    "y"
                  ],
                  "x": [
                    "job",
                    "marital",
                    "education",
                    "default",
                    "balance",
                    "housing",
                    "loan",
                    "contact",
                    "day",
                    "month",
                    "duration",
                    "campaign",
                    "pdays",
                    "previous",
                    "poutcome",
                    "y"
                  ],
                  "z": [
                    [
                      1,
                      0.004931910411013492,
                      0.16152205781447423,
                      -0.02068375513582262,
                      0.0002798719421914055,
                      0.1515903314249178,
                      0.02447817795615591,
                      -0.037959005869695764,
                      0.016520846443808097,
                      0.004057247851220869,
                      -0.026705001156272924,
                      0.022216362066736033,
                      0.035342300087602606,
                      0.0051401373637259004,
                      0.01590329577802594,
                      -0.02670099760914081
                    ],
                    [
                      0.004931910411013492,
                      1,
                      -0.10912374438191672,
                      0.020744765994452744,
                      -0.03670410132949675,
                      0.029851263072685957,
                      0.04521030276330248,
                      -0.03797677972257237,
                      -0.008794165589193301,
                      0.00453461297853744,
                      0.02409588786401166,
                      -0.005914831287877697,
                      -0.017050091197664402,
                      -0.03802774510560156,
                      -0.031078780592203384,
                      -0.015041881891451512
                    ],
                    [
                      0.16152205781447423,
                      -0.10912374438191672,
                      1,
                      -0.008834830757385458,
                      0.028070433413889446,
                      -0.03125055377642861,
                      0.016101562871544337,
                      0.07879695240834751,
                      0.013508135855046238,
                      0.0055813531887444374,
                      -0.03579529690036159,
                      0.01926799790948917,
                      0.006886138793171893,
                      0.027319856922012612,
                      0.02682466398944813,
                      0.050264986213161375
                    ],
                    [
                      -0.02068375513582262,
                      0.020744765994452744,
                      -0.008834830757385458,
                      1,
                      -0.22608602762261923,
                      0.0068806450416663825,
                      0.06399394536289046,
                      -0.021082086447207216,
                      -0.013260779470614896,
                      -0.002624441278587926,
                      0.08214865169958159,
                      -0.012347686172779876,
                      -0.026316612806674966,
                      -0.026656427840274485,
                      -0.02253762276703781,
                      0.0013026526456219152
                    ],
                    [
                      0.0002798719421914055,
                      -0.03670410132949675,
                      0.028070433413889446,
                      -0.22608602762261923,
                      1,
                      -0.0485669145021852,
                      -0.09695281011852885,
                      0.05710706795153495,
                      -0.029976632289651833,
                      -0.07423545331785077,
                      -0.6437344955987298,
                      -0.008249152691193527,
                      0.048937924517584816,
                      0.046554459413086245,
                      0.06241490780181289,
                      0.00094984210898068
                    ],
                    [
                      0.1515903314249178,
                      0.029851263072685957,
                      -0.03125055377642861,
                      0.0068806450416663825,
                      -0.0485669145021852,
                      1,
                      0.018450767511026984,
                      -0.21057410720478967,
                      -0.03129101236824365,
                      -0.17327506513343288,
                      -0.027458075380618785,
                      -0.003573573583611497,
                      0.11689327259257297,
                      0.038620582618810156,
                      0.03940293065023039,
                      -0.1046834003510661
                    ],
                    [
                      0.02447817795615591,
                      0.04521030276330248,
                      0.016101562871544337,
                      0.06399394536289046,
                      -0.09695281011852885,
                      0.018450767511026984,
                      1,
                      0.0026103844152605827,
                      -0.004879370486429893,
                      0.008959958991981211,
                      0.0583391913007745,
                      0.017119987599516807,
                      -0.03108640551028303,
                      -0.022114829395465937,
                      -0.04374099557742172,
                      -0.07051703515462378
                    ],
                    [
                      -0.037959005869695764,
                      -0.03797677972257237,
                      0.07879695240834751,
                      -0.021082086447207216,
                      0.05710706795153495,
                      -0.21057410720478967,
                      0.0026103844152605827,
                      1,
                      0.06349647901632638,
                      -0.05367874982505347,
                      -0.014776966537273018,
                      0.007928917667462107,
                      0.21068962485041406,
                      0.17341040748394188,
                      0.2239127294060523,
                      0.1258816386290989
                    ],
                    [
                      0.016520846443808097,
                      -0.008794165589193301,
                      0.013508135855046238,
                      -0.013260779470614896,
                      -0.029976632289651833,
                      -0.03129101236824365,
                      -0.004879370486429893,
                      0.06349647901632638,
                      1,
                      -0.04251347499528778,
                      -0.0017999474791426623,
                      0.16070606913904129,
                      -0.09435151957139468,
                      -0.05911439404177577,
                      -0.0579922027247444,
                      -0.011244207925172951
                    ],
                    [
                      0.004057247851220869,
                      0.00453461297853744,
                      0.0055813531887444374,
                      -0.002624441278587926,
                      -0.07423545331785077,
                      -0.17327506513343288,
                      0.008959958991981211,
                      -0.05367874982505347,
                      -0.04251347499528778,
                      1,
                      0.08747455178787404,
                      0.16220312146010604,
                      -0.12431740487316674,
                      -0.10589441507439241,
                      -0.1432885512848702,
                      0.040711419247113585
                    ],
                    [
                      -0.026705001156272924,
                      0.02409588786401166,
                      -0.03579529690036159,
                      0.08214865169958159,
                      -0.6437344955987298,
                      -0.027458075380618785,
                      0.0583391913007745,
                      -0.014776966537273018,
                      -0.0017999474791426623,
                      0.08747455178787404,
                      1,
                      -0.01233595360854787,
                      -0.0281694708876823,
                      -0.041388106916565685,
                      -0.03291237343243967,
                      0.07934851624880179
                    ],
                    [
                      0.022216362066736033,
                      -0.005914831287877697,
                      0.01926799790948917,
                      -0.012347686172779876,
                      -0.008249152691193527,
                      -0.003573573583611497,
                      0.017119987599516807,
                      0.007928917667462107,
                      0.16070606913904129,
                      0.16220312146010604,
                      -0.01233595360854787,
                      1,
                      -0.09313681840575182,
                      -0.06783263049126001,
                      -0.09266753060452212,
                      -0.06114743110383027
                    ],
                    [
                      0.035342300087602606,
                      -0.017050091197664402,
                      0.006886138793171893,
                      -0.026316612806674966,
                      0.048937924517584816,
                      0.11689327259257297,
                      -0.03108640551028303,
                      0.21068962485041406,
                      -0.09435151957139468,
                      -0.12431740487316674,
                      -0.0281694708876823,
                      -0.09313681840575182,
                      1,
                      0.5775618266478552,
                      0.7237797432221461,
                      0.10408681940919971
                    ],
                    [
                      0.0051401373637259004,
                      -0.03802774510560156,
                      0.027319856922012612,
                      -0.026656427840274485,
                      0.046554459413086245,
                      0.038620582618810156,
                      -0.022114829395465937,
                      0.17341040748394188,
                      -0.05911439404177577,
                      -0.10589441507439241,
                      -0.041388106916565685,
                      -0.06783263049126001,
                      0.5775618266478552,
                      1,
                      0.620689712364735,
                      0.11671443565542357
                    ],
                    [
                      0.01590329577802594,
                      -0.031078780592203384,
                      0.02682466398944813,
                      -0.02253762276703781,
                      0.06241490780181289,
                      0.03940293065023039,
                      -0.04374099557742172,
                      0.2239127294060523,
                      -0.0579922027247444,
                      -0.1432885512848702,
                      -0.03291237343243967,
                      -0.09266753060452212,
                      0.7237797432221461,
                      0.620689712364735,
                      1,
                      0.1800595565860657
                    ],
                    [
                      -0.02670099760914081,
                      -0.015041881891451512,
                      0.050264986213161375,
                      0.0013026526456219152,
                      0.00094984210898068,
                      -0.1046834003510661,
                      -0.07051703515462378,
                      0.1258816386290989,
                      -0.011244207925172951,
                      0.040711419247113585,
                      0.07934851624880179,
                      -0.06114743110383027,
                      0.10408681940919971,
                      0.11671443565542357,
                      0.1800595565860657,
                      1
                    ]
                  ],
                  "type": "heatmap"
                }
              ],
              "config": {
                "plotlyServerURL": "https://plot.ly",
                "linkText": "Export to plot.ly",
                "showLink": false
              },
              "layout": {
                "template": {
                  "layout": {
                    "shapedefaults": {
                      "line": {
                        "color": "#2a3f5f"
                      }
                    },
                    "polar": {
                      "radialaxis": {
                        "ticks": "",
                        "gridcolor": "white",
                        "linecolor": "white"
                      },
                      "bgcolor": "#E5ECF6",
                      "angularaxis": {
                        "ticks": "",
                        "gridcolor": "white",
                        "linecolor": "white"
                      }
                    },
                    "colorway": [
                      "#636efa",
                      "#EF553B",
                      "#00cc96",
                      "#ab63fa",
                      "#FFA15A",
                      "#19d3f3",
                      "#FF6692",
                      "#B6E880",
                      "#FF97FF",
                      "#FECB52"
                    ],
                    "xaxis": {
                      "automargin": true,
                      "title": {
                        "standoff": 15
                      },
                      "zerolinewidth": 2,
                      "ticks": "",
                      "zerolinecolor": "white",
                      "gridcolor": "white",
                      "linecolor": "white"
                    },
                    "colorscale": {
                      "diverging": [
                        [
                          0,
                          "#8e0152"
                        ],
                        [
                          0.1,
                          "#c51b7d"
                        ],
                        [
                          0.2,
                          "#de77ae"
                        ],
                        [
                          0.3,
                          "#f1b6da"
                        ],
                        [
                          0.4,
                          "#fde0ef"
                        ],
                        [
                          0.5,
                          "#f7f7f7"
                        ],
                        [
                          0.6,
                          "#e6f5d0"
                        ],
                        [
                          0.7,
                          "#b8e186"
                        ],
                        [
                          0.8,
                          "#7fbc41"
                        ],
                        [
                          0.9,
                          "#4d9221"
                        ],
                        [
                          1,
                          "#276419"
                        ]
                      ],
                      "sequential": [
                        [
                          0,
                          "#0d0887"
                        ],
                        [
                          0.1111111111111111,
                          "#46039f"
                        ],
                        [
                          0.2222222222222222,
                          "#7201a8"
                        ],
                        [
                          0.3333333333333333,
                          "#9c179e"
                        ],
                        [
                          0.4444444444444444,
                          "#bd3786"
                        ],
                        [
                          0.5555555555555556,
                          "#d8576b"
                        ],
                        [
                          0.6666666666666666,
                          "#ed7953"
                        ],
                        [
                          0.7777777777777778,
                          "#fb9f3a"
                        ],
                        [
                          0.8888888888888888,
                          "#fdca26"
                        ],
                        [
                          1,
                          "#f0f921"
                        ]
                      ],
                      "sequentialminus": [
                        [
                          0,
                          "#0d0887"
                        ],
                        [
                          0.1111111111111111,
                          "#46039f"
                        ],
                        [
                          0.2222222222222222,
                          "#7201a8"
                        ],
                        [
                          0.3333333333333333,
                          "#9c179e"
                        ],
                        [
                          0.4444444444444444,
                          "#bd3786"
                        ],
                        [
                          0.5555555555555556,
                          "#d8576b"
                        ],
                        [
                          0.6666666666666666,
                          "#ed7953"
                        ],
                        [
                          0.7777777777777778,
                          "#fb9f3a"
                        ],
                        [
                          0.8888888888888888,
                          "#fdca26"
                        ],
                        [
                          1,
                          "#f0f921"
                        ]
                      ]
                    },
                    "paper_bgcolor": "white",
                    "plot_bgcolor": "#E5ECF6",
                    "title": {
                      "x": 0.05
                    },
                    "scene": {
                      "zaxis": {
                        "backgroundcolor": "#E5ECF6",
                        "ticks": "",
                        "gridwidth": 2,
                        "showbackground": true,
                        "zerolinecolor": "white",
                        "gridcolor": "white",
                        "linecolor": "white"
                      },
                      "xaxis": {
                        "backgroundcolor": "#E5ECF6",
                        "ticks": "",
                        "gridwidth": 2,
                        "showbackground": true,
                        "zerolinecolor": "white",
                        "gridcolor": "white",
                        "linecolor": "white"
                      },
                      "yaxis": {
                        "backgroundcolor": "#E5ECF6",
                        "ticks": "",
                        "gridwidth": 2,
                        "showbackground": true,
                        "zerolinecolor": "white",
                        "gridcolor": "white",
                        "linecolor": "white"
                      }
                    },
                    "yaxis": {
                      "automargin": true,
                      "title": {
                        "standoff": 15
                      },
                      "zerolinewidth": 2,
                      "ticks": "",
                      "zerolinecolor": "white",
                      "gridcolor": "white",
                      "linecolor": "white"
                    },
                    "annotationdefaults": {
                      "arrowwidth": 1,
                      "arrowhead": 0,
                      "arrowcolor": "#2a3f5f"
                    },
                    "hoverlabel": {
                      "align": "left"
                    },
                    "ternary": {
                      "bgcolor": "#E5ECF6",
                      "baxis": {
                        "ticks": "",
                        "gridcolor": "white",
                        "linecolor": "white"
                      },
                      "caxis": {
                        "ticks": "",
                        "gridcolor": "white",
                        "linecolor": "white"
                      },
                      "aaxis": {
                        "ticks": "",
                        "gridcolor": "white",
                        "linecolor": "white"
                      }
                    },
                    "mapbox": {
                      "style": "light"
                    },
                    "hovermode": "closest",
                    "font": {
                      "color": "#2a3f5f"
                    },
                    "geo": {
                      "showland": true,
                      "landcolor": "#E5ECF6",
                      "showlakes": true,
                      "bgcolor": "white",
                      "subunitcolor": "white",
                      "lakecolor": "white"
                    },
                    "coloraxis": {
                      "colorbar": {
                        "outlinewidth": 0,
                        "ticks": ""
                      }
                    }
                  },
                  "data": {
                    "mesh3d": [
                      {
                        "colorbar": {
                          "outlinewidth": 0,
                          "ticks": ""
                        },
                        "type": "mesh3d"
                      }
                    ],
                    "scattercarpet": [
                      {
                        "marker": {
                          "colorbar": {
                            "outlinewidth": 0,
                            "ticks": ""
                          }
                        },
                        "type": "scattercarpet"
                      }
                    ],
                    "pie": [
                      {
                        "automargin": true,
                        "type": "pie"
                      }
                    ],
                    "surface": [
                      {
                        "colorbar": {
                          "outlinewidth": 0,
                          "ticks": ""
                        },
                        "type": "surface",
                        "colorscale": [
                          [
                            0,
                            "#0d0887"
                          ],
                          [
                            0.1111111111111111,
                            "#46039f"
                          ],
                          [
                            0.2222222222222222,
                            "#7201a8"
                          ],
                          [
                            0.3333333333333333,
                            "#9c179e"
                          ],
                          [
                            0.4444444444444444,
                            "#bd3786"
                          ],
                          [
                            0.5555555555555556,
                            "#d8576b"
                          ],
                          [
                            0.6666666666666666,
                            "#ed7953"
                          ],
                          [
                            0.7777777777777778,
                            "#fb9f3a"
                          ],
                          [
                            0.8888888888888888,
                            "#fdca26"
                          ],
                          [
                            1,
                            "#f0f921"
                          ]
                        ]
                      }
                    ],
                    "table": [
                      {
                        "header": {
                          "line": {
                            "color": "white"
                          },
                          "fill": {
                            "color": "#C8D4E3"
                          }
                        },
                        "cells": {
                          "line": {
                            "color": "white"
                          },
                          "fill": {
                            "color": "#EBF0F8"
                          }
                        },
                        "type": "table"
                      }
                    ],
                    "scatterpolargl": [
                      {
                        "marker": {
                          "colorbar": {
                            "outlinewidth": 0,
                            "ticks": ""
                          }
                        },
                        "type": "scatterpolargl"
                      }
                    ],
                    "contour": [
                      {
                        "colorbar": {
                          "outlinewidth": 0,
                          "ticks": ""
                        },
                        "type": "contour",
                        "colorscale": [
                          [
                            0,
                            "#0d0887"
                          ],
                          [
                            0.1111111111111111,
                            "#46039f"
                          ],
                          [
                            0.2222222222222222,
                            "#7201a8"
                          ],
                          [
                            0.3333333333333333,
                            "#9c179e"
                          ],
                          [
                            0.4444444444444444,
                            "#bd3786"
                          ],
                          [
                            0.5555555555555556,
                            "#d8576b"
                          ],
                          [
                            0.6666666666666666,
                            "#ed7953"
                          ],
                          [
                            0.7777777777777778,
                            "#fb9f3a"
                          ],
                          [
                            0.8888888888888888,
                            "#fdca26"
                          ],
                          [
                            1,
                            "#f0f921"
                          ]
                        ]
                      }
                    ],
                    "carpet": [
                      {
                        "type": "carpet",
                        "baxis": {
                          "minorgridcolor": "white",
                          "gridcolor": "white",
                          "linecolor": "white",
                          "endlinecolor": "#2a3f5f",
                          "startlinecolor": "#2a3f5f"
                        },
                        "aaxis": {
                          "minorgridcolor": "white",
                          "gridcolor": "white",
                          "linecolor": "white",
                          "endlinecolor": "#2a3f5f",
                          "startlinecolor": "#2a3f5f"
                        }
                      }
                    ],
                    "contourcarpet": [
                      {
                        "colorbar": {
                          "outlinewidth": 0,
                          "ticks": ""
                        },
                        "type": "contourcarpet"
                      }
                    ],
                    "heatmap": [
                      {
                        "colorbar": {
                          "outlinewidth": 0,
                          "ticks": ""
                        },
                        "type": "heatmap",
                        "colorscale": [
                          [
                            0,
                            "#0d0887"
                          ],
                          [
                            0.1111111111111111,
                            "#46039f"
                          ],
                          [
                            0.2222222222222222,
                            "#7201a8"
                          ],
                          [
                            0.3333333333333333,
                            "#9c179e"
                          ],
                          [
                            0.4444444444444444,
                            "#bd3786"
                          ],
                          [
                            0.5555555555555556,
                            "#d8576b"
                          ],
                          [
                            0.6666666666666666,
                            "#ed7953"
                          ],
                          [
                            0.7777777777777778,
                            "#fb9f3a"
                          ],
                          [
                            0.8888888888888888,
                            "#fdca26"
                          ],
                          [
                            1,
                            "#f0f921"
                          ]
                        ]
                      }
                    ],
                    "scattermapbox": [
                      {
                        "marker": {
                          "colorbar": {
                            "outlinewidth": 0,
                            "ticks": ""
                          }
                        },
                        "type": "scattermapbox"
                      }
                    ],
                    "scatter3d": [
                      {
                        "marker": {
                          "colorbar": {
                            "outlinewidth": 0,
                            "ticks": ""
                          }
                        },
                        "line": {
                          "colorbar": {
                            "outlinewidth": 0,
                            "ticks": ""
                          }
                        },
                        "type": "scatter3d"
                      }
                    ],
                    "scattergl": [
                      {
                        "marker": {
                          "colorbar": {
                            "outlinewidth": 0,
                            "ticks": ""
                          }
                        },
                        "type": "scattergl"
                      }
                    ],
                    "scatterternary": [
                      {
                        "marker": {
                          "colorbar": {
                            "outlinewidth": 0,
                            "ticks": ""
                          }
                        },
                        "type": "scatterternary"
                      }
                    ],
                    "histogram": [
                      {
                        "marker": {
                          "colorbar": {
                            "outlinewidth": 0,
                            "ticks": ""
                          }
                        },
                        "type": "histogram"
                      }
                    ],
                    "heatmapgl": [
                      {
                        "colorbar": {
                          "outlinewidth": 0,
                          "ticks": ""
                        },
                        "type": "heatmapgl",
                        "colorscale": [
                          [
                            0,
                            "#0d0887"
                          ],
                          [
                            0.1111111111111111,
                            "#46039f"
                          ],
                          [
                            0.2222222222222222,
                            "#7201a8"
                          ],
                          [
                            0.3333333333333333,
                            "#9c179e"
                          ],
                          [
                            0.4444444444444444,
                            "#bd3786"
                          ],
                          [
                            0.5555555555555556,
                            "#d8576b"
                          ],
                          [
                            0.6666666666666666,
                            "#ed7953"
                          ],
                          [
                            0.7777777777777778,
                            "#fb9f3a"
                          ],
                          [
                            0.8888888888888888,
                            "#fdca26"
                          ],
                          [
                            1,
                            "#f0f921"
                          ]
                        ]
                      }
                    ],
                    "scatterpolar": [
                      {
                        "marker": {
                          "colorbar": {
                            "outlinewidth": 0,
                            "ticks": ""
                          }
                        },
                        "type": "scatterpolar"
                      }
                    ],
                    "histogram2d": [
                      {
                        "colorbar": {
                          "outlinewidth": 0,
                          "ticks": ""
                        },
                        "type": "histogram2d",
                        "colorscale": [
                          [
                            0,
                            "#0d0887"
                          ],
                          [
                            0.1111111111111111,
                            "#46039f"
                          ],
                          [
                            0.2222222222222222,
                            "#7201a8"
                          ],
                          [
                            0.3333333333333333,
                            "#9c179e"
                          ],
                          [
                            0.4444444444444444,
                            "#bd3786"
                          ],
                          [
                            0.5555555555555556,
                            "#d8576b"
                          ],
                          [
                            0.6666666666666666,
                            "#ed7953"
                          ],
                          [
                            0.7777777777777778,
                            "#fb9f3a"
                          ],
                          [
                            0.8888888888888888,
                            "#fdca26"
                          ],
                          [
                            1,
                            "#f0f921"
                          ]
                        ]
                      }
                    ],
                    "scattergeo": [
                      {
                        "marker": {
                          "colorbar": {
                            "outlinewidth": 0,
                            "ticks": ""
                          }
                        },
                        "type": "scattergeo"
                      }
                    ],
                    "bar": [
                      {
                        "marker": {
                          "line": {
                            "color": "#E5ECF6",
                            "width": 0.5
                          }
                        },
                        "type": "bar",
                        "error_x": {
                          "color": "#2a3f5f"
                        },
                        "error_y": {
                          "color": "#2a3f5f"
                        }
                      }
                    ],
                    "choropleth": [
                      {
                        "colorbar": {
                          "outlinewidth": 0,
                          "ticks": ""
                        },
                        "type": "choropleth"
                      }
                    ],
                    "parcoords": [
                      {
                        "line": {
                          "colorbar": {
                            "outlinewidth": 0,
                            "ticks": ""
                          }
                        },
                        "type": "parcoords"
                      }
                    ],
                    "barpolar": [
                      {
                        "marker": {
                          "line": {
                            "color": "#E5ECF6",
                            "width": 0.5
                          }
                        },
                        "type": "barpolar"
                      }
                    ],
                    "histogram2dcontour": [
                      {
                        "colorbar": {
                          "outlinewidth": 0,
                          "ticks": ""
                        },
                        "type": "histogram2dcontour",
                        "colorscale": [
                          [
                            0,
                            "#0d0887"
                          ],
                          [
                            0.1111111111111111,
                            "#46039f"
                          ],
                          [
                            0.2222222222222222,
                            "#7201a8"
                          ],
                          [
                            0.3333333333333333,
                            "#9c179e"
                          ],
                          [
                            0.4444444444444444,
                            "#bd3786"
                          ],
                          [
                            0.5555555555555556,
                            "#d8576b"
                          ],
                          [
                            0.6666666666666666,
                            "#ed7953"
                          ],
                          [
                            0.7777777777777778,
                            "#fb9f3a"
                          ],
                          [
                            0.8888888888888888,
                            "#fdca26"
                          ],
                          [
                            1,
                            "#f0f921"
                          ]
                        ]
                      }
                    ],
                    "scatter": [
                      {
                        "marker": {
                          "colorbar": {
                            "outlinewidth": 0,
                            "ticks": ""
                          }
                        },
                        "type": "scatter"
                      }
                    ]
                  }
                }
              }
            }
          },
          "metadata": {}
        }
      ]
    },
    {
      "cell_type": "code",
      "metadata": {
        "collapsed": true,
        "id": "pcXhfbvphEvE"
      },
      "source": [
        "X = train.drop(['y'], axis = 1)\n",
        "Y = train['y']"
      ],
      "execution_count": null,
      "outputs": []
    },
    {
      "cell_type": "code",
      "metadata": {
        "colab": {
          "base_uri": "https://localhost:8080/",
          "height": 295
        },
        "id": "G8hN61RDhEvE",
        "outputId": "08f38761-1b6f-4bdf-a008-4da1844a8dd3"
      },
      "source": [
        "plt.figure()\n",
        "train['y'].value_counts().plot(kind = 'bar')\n",
        "plt.ylabel(\"Count\")\n",
        "plt.title('Went on backorder? (0=No, 1=Yes)')"
      ],
      "execution_count": null,
      "outputs": [
        {
          "output_type": "execute_result",
          "data": {
            "text/plain": [
              "Text(0.5, 1.0, 'Went on backorder? (0=No, 1=Yes)')"
            ]
          },
          "metadata": {},
          "execution_count": 818
        },
        {
          "output_type": "display_data",
          "data": {
            "image/png": "[encoded data removed]",
            "text/plain": [
              "<Figure size 432x288 with 1 Axes>"
            ]
          },
          "metadata": {
            "needs_background": "light"
          }
        }
      ]
    },
    {
      "cell_type": "code",
      "metadata": {
        "collapsed": true,
        "id": "YK1ecl6qhEvE"
      },
      "source": [
        "X_train, X_test, Y_train, Y_test = train_test_split(X, Y, test_size = 0.1, stratify=y, random_state = 0)\n",
        "\n"
      ],
      "execution_count": null,
      "outputs": []
    },
    {
      "cell_type": "code",
      "metadata": {
        "collapsed": true,
        "colab": {
          "base_uri": "https://localhost:8080/"
        },
        "id": "EE9rB8x9hEvF",
        "outputId": "dd74f080-3db6-45b3-d66d-22e4ceadfab2"
      },
      "source": [
        "from imblearn.over_sampling import SMOTE\n",
        "oversampler = SMOTE(random_state = 0)\n",
        "X_train, Y_train = oversampler.fit_sample(X_train, Y_train)"
      ],
      "execution_count": null,
      "outputs": [
        {
          "output_type": "stream",
          "name": "stderr",
          "text": [
            "/usr/local/lib/python3.7/dist-packages/sklearn/utils/deprecation.py:87: FutureWarning:\n",
            "\n",
            "Function safe_indexing is deprecated; safe_indexing is deprecated in version 0.22 and will be removed in version 0.24.\n",
            "\n"
          ]
        }
      ]
    },
    {
      "cell_type": "code",
      "metadata": {
        "colab": {
          "base_uri": "https://localhost:8080/",
          "height": 295
        },
        "id": "aTxbbVvuhEvF",
        "outputId": "1f0a21c2-b659-4434-924d-ab6488d6895c"
      },
      "source": [
        "plt.figure()\n",
        "Series(Y_train).value_counts().sort_index().plot(kind = 'bar')\n",
        "plt.ylabel(\"Count\")\n",
        "plt.title('Went on backorder? (0=No, 1=Yes)')"
      ],
      "execution_count": null,
      "outputs": [
        {
          "output_type": "execute_result",
          "data": {
            "text/plain": [
              "Text(0.5, 1.0, 'Went on backorder? (0=No, 1=Yes)')"
            ]
          },
          "metadata": {},
          "execution_count": 821
        },
        {
          "output_type": "display_data",
          "data": {
            "image/png": "[encoded data removed]",
            "text/plain": [
              "<Figure size 432x288 with 1 Axes>"
            ]
          },
          "metadata": {
            "needs_background": "light"
          }
        }
      ]
    },
    {
      "cell_type": "code",
      "metadata": {
        "collapsed": true,
        "id": "1xp_FISJhEvG"
      },
      "source": [
        "def roc_curve_acc(Y_test, Y_pred,method):\n",
        "    false_positive_rate, true_positive_rate, thresholds = roc_curve(Y_test, Y_pred)\n",
        "    roc_auc = auc(false_positive_rate, true_positive_rate)\n",
        "    plt.title('Receiver Operating Characteristic')\n",
        "    plt.plot(false_positive_rate, true_positive_rate, color='darkorange',label='%s AUC = %0.3f'%(method, roc_auc))\n",
        "    plt.legend(loc='lower right')\n",
        "    plt.plot([0,1],[0,1],'b--')\n",
        "    plt.xlim([-0.1,1.2])\n",
        "    plt.ylim([-0.1,1.2])\n",
        "    plt.ylabel('True Positive Rate')\n",
        "    plt.xlabel('False Positive Rate')"
      ],
      "execution_count": null,
      "outputs": []
    },
    {
      "cell_type": "code",
      "metadata": {
        "colab": {
          "base_uri": "https://localhost:8080/"
        },
        "id": "xrhJxN8FhEvG",
        "outputId": "c0c95864-dfd2-4f53-b909-9f2678155f93"
      },
      "source": [
        "RF = RandomForestClassifier()\n",
        "RF.fit(X_train, Y_train)"
      ],
      "execution_count": null,
      "outputs": [
        {
          "output_type": "execute_result",
          "data": {
            "text/plain": [
              "RandomForestClassifier(bootstrap=True, ccp_alpha=0.0, class_weight=None,\n",
              "                       criterion='gini', max_depth=None, max_features='auto',\n",
              "                       max_leaf_nodes=None, max_samples=None,\n",
              "                       min_impurity_decrease=0.0, min_impurity_split=None,\n",
              "                       min_samples_leaf=1, min_samples_split=2,\n",
              "                       min_weight_fraction_leaf=0.0, n_estimators=100,\n",
              "                       n_jobs=None, oob_score=False, random_state=None,\n",
              "                       verbose=0, warm_start=False)"
            ]
          },
          "metadata": {},
          "execution_count": 823
        }
      ]
    },
    {
      "cell_type": "code",
      "metadata": {
        "colab": {
          "base_uri": "https://localhost:8080/",
          "height": 459
        },
        "id": "u6So0jchhEvG",
        "outputId": "3c1b1df0-8826-4405-c1dc-1c48cded6095"
      },
      "source": [
        "features_list = train.columns.values\n",
        "feature_importance = RF.feature_importances_\n",
        "sorted_idx = np.argsort(feature_importance)[:20]\n",
        " \n",
        "plt.figure(figsize=(5,7))\n",
        "plt.barh(range(len(sorted_idx)), feature_importance[sorted_idx], align='center')\n",
        "plt.yticks(range(len(sorted_idx)), features_list[sorted_idx])\n",
        "plt.xlabel('Importância')\n",
        "plt.title('Importância de características')\n",
        "plt.draw()\n",
        "plt.show()"
      ],
      "execution_count": null,
      "outputs": [
        {
          "output_type": "display_data",
          "data": {
            "image/png": "[encoded data removed]",
            "text/plain": [
              "<Figure size 360x504 with 1 Axes>"
            ]
          },
          "metadata": {
            "needs_background": "light"
          }
        }
      ]
    },
    {
      "cell_type": "code",
      "metadata": {
        "colab": {
          "base_uri": "https://localhost:8080/"
        },
        "id": "bZap1Y5whEvH",
        "outputId": "4d8c1949-ae72-4350-ba75-de739cc94871"
      },
      "source": [
        "train['balance'].describe()"
      ],
      "execution_count": null,
      "outputs": [
        {
          "output_type": "execute_result",
          "data": {
            "text/plain": [
              "count    4521.000000\n",
              "mean        0.622749\n",
              "std         0.514048\n",
              "min        -0.999966\n",
              "25%         0.304460\n",
              "50%         0.916323\n",
              "75%         0.993898\n",
              "max         1.000000\n",
              "Name: balance, dtype: float64"
            ]
          },
          "metadata": {},
          "execution_count": 825
        }
      ]
    },
    {
      "cell_type": "code",
      "metadata": {
        "collapsed": true,
        "id": "RBYrjkNjhEvH"
      },
      "source": [
        "Y_pred = RF.predict(X_test)"
      ],
      "execution_count": null,
      "outputs": []
    },
    {
      "cell_type": "code",
      "metadata": {
        "colab": {
          "base_uri": "https://localhost:8080/"
        },
        "id": "BQ4-imA7hEvI",
        "outputId": "1767f320-2b75-4408-b647-4b796324b4d1"
      },
      "source": [
        "print(\"Random Forest Classifier report \\n\", classification_report(Y_test, Y_pred))"
      ],
      "execution_count": null,
      "outputs": [
        {
          "output_type": "stream",
          "name": "stdout",
          "text": [
            "Random Forest Classifier report \n",
            "               precision    recall  f1-score   support\n",
            "\n",
            "           0       0.90      0.97      0.93       401\n",
            "           1       0.42      0.15      0.23        52\n",
            "\n",
            "    accuracy                           0.88       453\n",
            "   macro avg       0.66      0.56      0.58       453\n",
            "weighted avg       0.84      0.88      0.85       453\n",
            "\n"
          ]
        }
      ]
    },
    {
      "cell_type": "code",
      "metadata": {
        "colab": {
          "base_uri": "https://localhost:8080/",
          "height": 295
        },
        "id": "K2P3KyluhEvI",
        "outputId": "42088c2e-951f-46fc-c642-5e039414c682"
      },
      "source": [
        "roc_curve_acc(Y_test, Y_pred, \"RF\")"
      ],
      "execution_count": null,
      "outputs": [
        {
          "output_type": "display_data",
          "data": {
            "image/png": "[encoded data removed]",
            "text/plain": [
              "<Figure size 432x288 with 1 Axes>"
            ]
          },
          "metadata": {
            "needs_background": "light"
          }
        }
      ]
    },
    {
      "cell_type": "code",
      "metadata": {
        "colab": {
          "base_uri": "https://localhost:8080/",
          "height": 312
        },
        "id": "zXB9lZPNhEvI",
        "outputId": "e8e08810-9f8c-4694-8168-5ef8c76630f0"
      },
      "source": [
        "plt.figure(figsize = (5,4))\n",
        "cm = confusion_matrix(Y_test, Y_pred)\n",
        "sns.heatmap(cm, annot = True, cmap='Blues', fmt='g')\n",
        "plt.title('Confusion matrix')\n",
        "plt.ylabel('True label')\n",
        "plt.xlabel('Predicted label')"
      ],
      "execution_count": null,
      "outputs": [
        {
          "output_type": "execute_result",
          "data": {
            "text/plain": [
              "Text(0.5, 15.0, 'Predicted label')"
            ]
          },
          "metadata": {},
          "execution_count": 829
        },
        {
          "output_type": "display_data",
          "data": {
            "image/png": "[encoded data removed]",
            "text/plain": [
              "<Figure size 360x288 with 2 Axes>"
            ]
          },
          "metadata": {
            "needs_background": "light"
          }
        }
      ]
    },
    {
      "cell_type": "code",
      "metadata": {
        "colab": {
          "base_uri": "https://localhost:8080/",
          "height": 295
        },
        "id": "PSWq9BW7hEvJ",
        "outputId": "9063991b-a864-48ec-f9a5-1b39c32a88f2"
      },
      "source": [
        "precision, recall, thresholds = precision_recall_curve(Y_test, Y_pred)\n",
        "area = auc(recall, precision)\n",
        "plt.figure()\n",
        "plt.plot(recall, precision, label = 'Area Under Curve = %0.3f'% area)\n",
        "plt.legend(loc = 'lower left')\n",
        "plt.title('Precision-Recall curve')\n",
        "plt.xlabel('Recall')\n",
        "plt.ylabel('Precision')\n",
        "plt.ylim([0.0, 1.0])\n",
        "plt.xlim([0.0, 1.0])\n",
        "plt.show()"
      ],
      "execution_count": null,
      "outputs": [
        {
          "output_type": "display_data",
          "data": {
            "image/png": "[encoded data removed]",
            "text/plain": [
              "<Figure size 432x288 with 1 Axes>"
            ]
          },
          "metadata": {
            "needs_background": "light"
          }
        }
      ]
    },
    {
      "cell_type": "code",
      "metadata": {
        "collapsed": true,
        "id": "1ldAjQJHhEvK"
      },
      "source": [
        "Y_pred = RF.predict(X_test)"
      ],
      "execution_count": null,
      "outputs": []
    },
    {
      "cell_type": "code",
      "metadata": {
        "colab": {
          "base_uri": "https://localhost:8080/"
        },
        "id": "r6XGpzV0hEvL",
        "outputId": "676d31bb-5379-4563-e874-273321d0c919"
      },
      "source": [
        "print(\"Test data Random Forest Classifier report \\n\", classification_report(Y_test, Y_pred))\n"
      ],
      "execution_count": null,
      "outputs": [
        {
          "output_type": "stream",
          "name": "stdout",
          "text": [
            "Test data Random Forest Classifier report \n",
            "               precision    recall  f1-score   support\n",
            "\n",
            "           0       0.90      0.97      0.93       401\n",
            "           1       0.42      0.15      0.23        52\n",
            "\n",
            "    accuracy                           0.88       453\n",
            "   macro avg       0.66      0.56      0.58       453\n",
            "weighted avg       0.84      0.88      0.85       453\n",
            "\n"
          ]
        }
      ]
    },
    {
      "cell_type": "markdown",
      "metadata": {
        "id": "kHZZAydjVqeg"
      },
      "source": [
        "# Deep Learning"
      ]
    },
    {
      "cell_type": "code",
      "metadata": {
        "id": "IkBmw69gFQJ0"
      },
      "source": [
        "def display_learning_curves(history):\n",
        "    fig, (ax1, ax2) = plt.subplots(1, 2, figsize=(15, 5))\n",
        "\n",
        "    ax1.plot(history.history[\"loss\"])\n",
        "    ax1.plot(history.history[\"val_loss\"])\n",
        "    ax1.legend([\"train\", \"test\"], loc=\"upper right\")\n",
        "    ax1.set_xlabel(\"Epochs\")\n",
        "    ax1.set_ylabel(\"Loss\")\n",
        "\n",
        "    ax2.plot(history.history['accuracy'])\n",
        "    ax2.plot(history.history['val_accuracy'])\n",
        "    ax2.legend([\"train\", \"test\"], loc=\"upper right\")\n",
        "    ax2.set_xlabel(\"Epochs\")\n",
        "    ax2.set_ylabel(\"Accuracy\")\n",
        "    plt.show()\n"
      ],
      "execution_count": null,
      "outputs": []
    },
    {
      "cell_type": "code",
      "metadata": {
        "colab": {
          "base_uri": "https://localhost:8080/",
          "height": 557
        },
        "id": "kKYJHBoFLDMD",
        "outputId": "e14dce0f-fba9-4029-ad9b-91cc1fd0bc3e"
      },
      "source": [
        "X = df.drop('y', axis=1)\n",
        "y = np.ravel(df.iloc[: , -1:])\n",
        "print('Imbalanced ratio in training set: 1:%i' % (Counter(y)[0]/Counter(y)[1]))\n",
        "\n",
        "from sklearn.model_selection import train_test_split\n",
        "X_train, X_test, Y_train, Y_test = train_test_split(X, y, test_size=0.33, stratify=y, random_state=42)\n",
        "\n",
        "# Divisão do conjunto de dados  teste (1/3); treino (2/3)\n",
        "#X_train, X_test, y_train, y_test = train_test_split(X, y, test_size=0.33, random_state=10)\n",
        "\n",
        "#verificar dimensões dos subconjuntos\n",
        "X_train.shape, X_test.shape, Y_train.shape, Y_test.shape\n",
        "\n",
        "\n",
        "X.corr()\n",
        "\n"
      ],
      "execution_count": null,
      "outputs": [
        {
          "output_type": "stream",
          "name": "stdout",
          "text": [
            "Imbalanced ratio in training set: 1:7\n"
          ]
        },
        {
          "output_type": "execute_result",
          "data": {
            "text/html": [
              "<div>\n",
              "<style scoped>\n",
              "    .dataframe tbody tr th:only-of-type {\n",
              "        vertical-align: middle;\n",
              "    }\n",
              "\n",
              "    .dataframe tbody tr th {\n",
              "        vertical-align: top;\n",
              "    }\n",
              "\n",
              "    .dataframe thead th {\n",
              "        text-align: right;\n",
              "    }\n",
              "</style>\n",
              "<table border=\"1\" class=\"dataframe\">\n",
              "  <thead>\n",
              "    <tr style=\"text-align: right;\">\n",
              "      <th></th>\n",
              "      <th>job</th>\n",
              "      <th>marital</th>\n",
              "      <th>education</th>\n",
              "      <th>default</th>\n",
              "      <th>balance</th>\n",
              "      <th>housing</th>\n",
              "      <th>loan</th>\n",
              "      <th>contact</th>\n",
              "      <th>day</th>\n",
              "      <th>month</th>\n",
              "      <th>duration</th>\n",
              "      <th>campaign</th>\n",
              "      <th>pdays</th>\n",
              "      <th>previous</th>\n",
              "      <th>poutcome</th>\n",
              "    </tr>\n",
              "  </thead>\n",
              "  <tbody>\n",
              "    <tr>\n",
              "      <th>job</th>\n",
              "      <td>1.000000</td>\n",
              "      <td>0.004932</td>\n",
              "      <td>0.161522</td>\n",
              "      <td>-0.020684</td>\n",
              "      <td>0.000280</td>\n",
              "      <td>0.151590</td>\n",
              "      <td>0.024478</td>\n",
              "      <td>-0.037959</td>\n",
              "      <td>0.016521</td>\n",
              "      <td>0.004057</td>\n",
              "      <td>-0.026705</td>\n",
              "      <td>0.022216</td>\n",
              "      <td>0.035342</td>\n",
              "      <td>0.005140</td>\n",
              "      <td>0.015903</td>\n",
              "    </tr>\n",
              "    <tr>\n",
              "      <th>marital</th>\n",
              "      <td>0.004932</td>\n",
              "      <td>1.000000</td>\n",
              "      <td>-0.109124</td>\n",
              "      <td>0.020745</td>\n",
              "      <td>-0.036704</td>\n",
              "      <td>0.029851</td>\n",
              "      <td>0.045210</td>\n",
              "      <td>-0.037977</td>\n",
              "      <td>-0.008794</td>\n",
              "      <td>0.004535</td>\n",
              "      <td>0.024096</td>\n",
              "      <td>-0.005915</td>\n",
              "      <td>-0.017050</td>\n",
              "      <td>-0.038028</td>\n",
              "      <td>-0.031079</td>\n",
              "    </tr>\n",
              "    <tr>\n",
              "      <th>education</th>\n",
              "      <td>0.161522</td>\n",
              "      <td>-0.109124</td>\n",
              "      <td>1.000000</td>\n",
              "      <td>-0.008835</td>\n",
              "      <td>0.028070</td>\n",
              "      <td>-0.031251</td>\n",
              "      <td>0.016102</td>\n",
              "      <td>0.078797</td>\n",
              "      <td>0.013508</td>\n",
              "      <td>0.005581</td>\n",
              "      <td>-0.035795</td>\n",
              "      <td>0.019268</td>\n",
              "      <td>0.006886</td>\n",
              "      <td>0.027320</td>\n",
              "      <td>0.026825</td>\n",
              "    </tr>\n",
              "    <tr>\n",
              "      <th>default</th>\n",
              "      <td>-0.020684</td>\n",
              "      <td>0.020745</td>\n",
              "      <td>-0.008835</td>\n",
              "      <td>1.000000</td>\n",
              "      <td>-0.226086</td>\n",
              "      <td>0.006881</td>\n",
              "      <td>0.063994</td>\n",
              "      <td>-0.021082</td>\n",
              "      <td>-0.013261</td>\n",
              "      <td>-0.002624</td>\n",
              "      <td>0.082149</td>\n",
              "      <td>-0.012348</td>\n",
              "      <td>-0.026317</td>\n",
              "      <td>-0.026656</td>\n",
              "      <td>-0.022538</td>\n",
              "    </tr>\n",
              "    <tr>\n",
              "      <th>balance</th>\n",
              "      <td>0.000280</td>\n",
              "      <td>-0.036704</td>\n",
              "      <td>0.028070</td>\n",
              "      <td>-0.226086</td>\n",
              "      <td>1.000000</td>\n",
              "      <td>-0.048567</td>\n",
              "      <td>-0.096953</td>\n",
              "      <td>0.057107</td>\n",
              "      <td>-0.029977</td>\n",
              "      <td>-0.074235</td>\n",
              "      <td>-0.643734</td>\n",
              "      <td>-0.008249</td>\n",
              "      <td>0.048938</td>\n",
              "      <td>0.046554</td>\n",
              "      <td>0.062415</td>\n",
              "    </tr>\n",
              "    <tr>\n",
              "      <th>housing</th>\n",
              "      <td>0.151590</td>\n",
              "      <td>0.029851</td>\n",
              "      <td>-0.031251</td>\n",
              "      <td>0.006881</td>\n",
              "      <td>-0.048567</td>\n",
              "      <td>1.000000</td>\n",
              "      <td>0.018451</td>\n",
              "      <td>-0.210574</td>\n",
              "      <td>-0.031291</td>\n",
              "      <td>-0.173275</td>\n",
              "      <td>-0.027458</td>\n",
              "      <td>-0.003574</td>\n",
              "      <td>0.116893</td>\n",
              "      <td>0.038621</td>\n",
              "      <td>0.039403</td>\n",
              "    </tr>\n",
              "    <tr>\n",
              "      <th>loan</th>\n",
              "      <td>0.024478</td>\n",
              "      <td>0.045210</td>\n",
              "      <td>0.016102</td>\n",
              "      <td>0.063994</td>\n",
              "      <td>-0.096953</td>\n",
              "      <td>0.018451</td>\n",
              "      <td>1.000000</td>\n",
              "      <td>0.002610</td>\n",
              "      <td>-0.004879</td>\n",
              "      <td>0.008960</td>\n",
              "      <td>0.058339</td>\n",
              "      <td>0.017120</td>\n",
              "      <td>-0.031086</td>\n",
              "      <td>-0.022115</td>\n",
              "      <td>-0.043741</td>\n",
              "    </tr>\n",
              "    <tr>\n",
              "      <th>contact</th>\n",
              "      <td>-0.037959</td>\n",
              "      <td>-0.037977</td>\n",
              "      <td>0.078797</td>\n",
              "      <td>-0.021082</td>\n",
              "      <td>0.057107</td>\n",
              "      <td>-0.210574</td>\n",
              "      <td>0.002610</td>\n",
              "      <td>1.000000</td>\n",
              "      <td>0.063496</td>\n",
              "      <td>-0.053679</td>\n",
              "      <td>-0.014777</td>\n",
              "      <td>0.007929</td>\n",
              "      <td>0.210690</td>\n",
              "      <td>0.173410</td>\n",
              "      <td>0.223913</td>\n",
              "    </tr>\n",
              "    <tr>\n",
              "      <th>day</th>\n",
              "      <td>0.016521</td>\n",
              "      <td>-0.008794</td>\n",
              "      <td>0.013508</td>\n",
              "      <td>-0.013261</td>\n",
              "      <td>-0.029977</td>\n",
              "      <td>-0.031291</td>\n",
              "      <td>-0.004879</td>\n",
              "      <td>0.063496</td>\n",
              "      <td>1.000000</td>\n",
              "      <td>-0.042513</td>\n",
              "      <td>-0.001800</td>\n",
              "      <td>0.160706</td>\n",
              "      <td>-0.094352</td>\n",
              "      <td>-0.059114</td>\n",
              "      <td>-0.057992</td>\n",
              "    </tr>\n",
              "    <tr>\n",
              "      <th>month</th>\n",
              "      <td>0.004057</td>\n",
              "      <td>0.004535</td>\n",
              "      <td>0.005581</td>\n",
              "      <td>-0.002624</td>\n",
              "      <td>-0.074235</td>\n",
              "      <td>-0.173275</td>\n",
              "      <td>0.008960</td>\n",
              "      <td>-0.053679</td>\n",
              "      <td>-0.042513</td>\n",
              "      <td>1.000000</td>\n",
              "      <td>0.087475</td>\n",
              "      <td>0.162203</td>\n",
              "      <td>-0.124317</td>\n",
              "      <td>-0.105894</td>\n",
              "      <td>-0.143289</td>\n",
              "    </tr>\n",
              "    <tr>\n",
              "      <th>duration</th>\n",
              "      <td>-0.026705</td>\n",
              "      <td>0.024096</td>\n",
              "      <td>-0.035795</td>\n",
              "      <td>0.082149</td>\n",
              "      <td>-0.643734</td>\n",
              "      <td>-0.027458</td>\n",
              "      <td>0.058339</td>\n",
              "      <td>-0.014777</td>\n",
              "      <td>-0.001800</td>\n",
              "      <td>0.087475</td>\n",
              "      <td>1.000000</td>\n",
              "      <td>-0.012336</td>\n",
              "      <td>-0.028169</td>\n",
              "      <td>-0.041388</td>\n",
              "      <td>-0.032912</td>\n",
              "    </tr>\n",
              "    <tr>\n",
              "      <th>campaign</th>\n",
              "      <td>0.022216</td>\n",
              "      <td>-0.005915</td>\n",
              "      <td>0.019268</td>\n",
              "      <td>-0.012348</td>\n",
              "      <td>-0.008249</td>\n",
              "      <td>-0.003574</td>\n",
              "      <td>0.017120</td>\n",
              "      <td>0.007929</td>\n",
              "      <td>0.160706</td>\n",
              "      <td>0.162203</td>\n",
              "      <td>-0.012336</td>\n",
              "      <td>1.000000</td>\n",
              "      <td>-0.093137</td>\n",
              "      <td>-0.067833</td>\n",
              "      <td>-0.092668</td>\n",
              "    </tr>\n",
              "    <tr>\n",
              "      <th>pdays</th>\n",
              "      <td>0.035342</td>\n",
              "      <td>-0.017050</td>\n",
              "      <td>0.006886</td>\n",
              "      <td>-0.026317</td>\n",
              "      <td>0.048938</td>\n",
              "      <td>0.116893</td>\n",
              "      <td>-0.031086</td>\n",
              "      <td>0.210690</td>\n",
              "      <td>-0.094352</td>\n",
              "      <td>-0.124317</td>\n",
              "      <td>-0.028169</td>\n",
              "      <td>-0.093137</td>\n",
              "      <td>1.000000</td>\n",
              "      <td>0.577562</td>\n",
              "      <td>0.723780</td>\n",
              "    </tr>\n",
              "    <tr>\n",
              "      <th>previous</th>\n",
              "      <td>0.005140</td>\n",
              "      <td>-0.038028</td>\n",
              "      <td>0.027320</td>\n",
              "      <td>-0.026656</td>\n",
              "      <td>0.046554</td>\n",
              "      <td>0.038621</td>\n",
              "      <td>-0.022115</td>\n",
              "      <td>0.173410</td>\n",
              "      <td>-0.059114</td>\n",
              "      <td>-0.105894</td>\n",
              "      <td>-0.041388</td>\n",
              "      <td>-0.067833</td>\n",
              "      <td>0.577562</td>\n",
              "      <td>1.000000</td>\n",
              "      <td>0.620690</td>\n",
              "    </tr>\n",
              "    <tr>\n",
              "      <th>poutcome</th>\n",
              "      <td>0.015903</td>\n",
              "      <td>-0.031079</td>\n",
              "      <td>0.026825</td>\n",
              "      <td>-0.022538</td>\n",
              "      <td>0.062415</td>\n",
              "      <td>0.039403</td>\n",
              "      <td>-0.043741</td>\n",
              "      <td>0.223913</td>\n",
              "      <td>-0.057992</td>\n",
              "      <td>-0.143289</td>\n",
              "      <td>-0.032912</td>\n",
              "      <td>-0.092668</td>\n",
              "      <td>0.723780</td>\n",
              "      <td>0.620690</td>\n",
              "      <td>1.000000</td>\n",
              "    </tr>\n",
              "  </tbody>\n",
              "</table>\n",
              "</div>"
            ],
            "text/plain": [
              "                job   marital  education  ...     pdays  previous  poutcome\n",
              "job        1.000000  0.004932   0.161522  ...  0.035342  0.005140  0.015903\n",
              "marital    0.004932  1.000000  -0.109124  ... -0.017050 -0.038028 -0.031079\n",
              "education  0.161522 -0.109124   1.000000  ...  0.006886  0.027320  0.026825\n",
              "default   -0.020684  0.020745  -0.008835  ... -0.026317 -0.026656 -0.022538\n",
              "balance    0.000280 -0.036704   0.028070  ...  0.048938  0.046554  0.062415\n",
              "housing    0.151590  0.029851  -0.031251  ...  0.116893  0.038621  0.039403\n",
              "loan       0.024478  0.045210   0.016102  ... -0.031086 -0.022115 -0.043741\n",
              "contact   -0.037959 -0.037977   0.078797  ...  0.210690  0.173410  0.223913\n",
              "day        0.016521 -0.008794   0.013508  ... -0.094352 -0.059114 -0.057992\n",
              "month      0.004057  0.004535   0.005581  ... -0.124317 -0.105894 -0.143289\n",
              "duration  -0.026705  0.024096  -0.035795  ... -0.028169 -0.041388 -0.032912\n",
              "campaign   0.022216 -0.005915   0.019268  ... -0.093137 -0.067833 -0.092668\n",
              "pdays      0.035342 -0.017050   0.006886  ...  1.000000  0.577562  0.723780\n",
              "previous   0.005140 -0.038028   0.027320  ...  0.577562  1.000000  0.620690\n",
              "poutcome   0.015903 -0.031079   0.026825  ...  0.723780  0.620690  1.000000\n",
              "\n",
              "[15 rows x 15 columns]"
            ]
          },
          "metadata": {},
          "execution_count": 834
        }
      ]
    },
    {
      "cell_type": "code",
      "metadata": {
        "colab": {
          "base_uri": "https://localhost:8080/"
        },
        "id": "4eMlp7cvUe_D",
        "outputId": "1b3e0668-5f12-4be6-cc42-d19497156e89"
      },
      "source": [
        "\n",
        "import csv\n",
        "import numpy as np\n",
        "from keras.models import Sequential\n",
        "from keras.layers import Dense, Activation,Dropout\n",
        "\n",
        "\n",
        "model = Sequential()\n",
        "model.add(Dense(100, activation='relu', input_dim=15))\n",
        "model.add(Dropout(0.3))\n",
        "model.add(Dense(100, activation='relu'))\n",
        "model.add(Dropout(0.3))\n",
        "model.add(Dense(2, activation='relu'))\n",
        "model.add(Dropout(0.3))\n",
        "model.add(Dense(2, activation='relu'))\n",
        "model.compile( optimizer='nadam',\n",
        "              loss='sparse_categorical_crossentropy',\n",
        "              metrics=['accuracy'])   \n",
        "  \n",
        "history = model.fit(X_train,Y_train,verbose=1,shuffle=True,batch_size=100,validation_split=0.2, epochs=1)\n",
        "print(\"Model training finished\")\n",
        "\n"
      ],
      "execution_count": null,
      "outputs": [
        {
          "output_type": "stream",
          "name": "stdout",
          "text": [
            "25/25 [==============================] - 1s 10ms/step - loss: 0.7329 - accuracy: 0.8849 - val_loss: 0.6931 - val_accuracy: 0.8845\n",
            "Model training finished\n"
          ]
        }
      ]
    }
  ]
}